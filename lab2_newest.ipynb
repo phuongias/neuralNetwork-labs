{
  "nbformat": 4,
  "nbformat_minor": 0,
  "metadata": {
    "colab": {
      "provenance": [],
      "collapsed_sections": [
        "p4vRz3oUHFt_"
      ],
      "gpuType": "T4"
    },
    "kernelspec": {
      "name": "python3",
      "display_name": "Python 3"
    },
    "language_info": {
      "name": "python"
    },
    "accelerator": "GPU",
    "widgets": {
      "application/vnd.jupyter.widget-state+json": {
        "dfbea059c850483f9bbd36a16cc84034": {
          "model_module": "@jupyter-widgets/controls",
          "model_name": "HBoxModel",
          "model_module_version": "1.5.0",
          "state": {
            "_dom_classes": [],
            "_model_module": "@jupyter-widgets/controls",
            "_model_module_version": "1.5.0",
            "_model_name": "HBoxModel",
            "_view_count": null,
            "_view_module": "@jupyter-widgets/controls",
            "_view_module_version": "1.5.0",
            "_view_name": "HBoxView",
            "box_style": "",
            "children": [
              "IPY_MODEL_81822f6712914d8c95b2bd9244804ddf",
              "IPY_MODEL_638d1095084a41348a8d7d302cac621b",
              "IPY_MODEL_a27cb83234924adc9d94bb807654ebfe"
            ],
            "layout": "IPY_MODEL_a6f48796fc5e4e5c900b1c7338284940"
          }
        },
        "81822f6712914d8c95b2bd9244804ddf": {
          "model_module": "@jupyter-widgets/controls",
          "model_name": "HTMLModel",
          "model_module_version": "1.5.0",
          "state": {
            "_dom_classes": [],
            "_model_module": "@jupyter-widgets/controls",
            "_model_module_version": "1.5.0",
            "_model_name": "HTMLModel",
            "_view_count": null,
            "_view_module": "@jupyter-widgets/controls",
            "_view_module_version": "1.5.0",
            "_view_name": "HTMLView",
            "description": "",
            "description_tooltip": null,
            "layout": "IPY_MODEL_50ef0c07e2824fecab7ebc090f2a1477",
            "placeholder": "​",
            "style": "IPY_MODEL_142ad80536034b66b4d0326d89e8af34",
            "value": "config.json: 100%"
          }
        },
        "638d1095084a41348a8d7d302cac621b": {
          "model_module": "@jupyter-widgets/controls",
          "model_name": "FloatProgressModel",
          "model_module_version": "1.5.0",
          "state": {
            "_dom_classes": [],
            "_model_module": "@jupyter-widgets/controls",
            "_model_module_version": "1.5.0",
            "_model_name": "FloatProgressModel",
            "_view_count": null,
            "_view_module": "@jupyter-widgets/controls",
            "_view_module_version": "1.5.0",
            "_view_name": "ProgressView",
            "bar_style": "success",
            "description": "",
            "description_tooltip": null,
            "layout": "IPY_MODEL_8ed55f858288469e8285597079157831",
            "max": 570,
            "min": 0,
            "orientation": "horizontal",
            "style": "IPY_MODEL_0b27c985db2c432bae84b297e7d7fcf3",
            "value": 570
          }
        },
        "a27cb83234924adc9d94bb807654ebfe": {
          "model_module": "@jupyter-widgets/controls",
          "model_name": "HTMLModel",
          "model_module_version": "1.5.0",
          "state": {
            "_dom_classes": [],
            "_model_module": "@jupyter-widgets/controls",
            "_model_module_version": "1.5.0",
            "_model_name": "HTMLModel",
            "_view_count": null,
            "_view_module": "@jupyter-widgets/controls",
            "_view_module_version": "1.5.0",
            "_view_name": "HTMLView",
            "description": "",
            "description_tooltip": null,
            "layout": "IPY_MODEL_d2acea2038ae4fc882bead03f87abcbd",
            "placeholder": "​",
            "style": "IPY_MODEL_e26f30f31f424036af978db024c58315",
            "value": " 570/570 [00:00&lt;00:00, 57.1kB/s]"
          }
        },
        "a6f48796fc5e4e5c900b1c7338284940": {
          "model_module": "@jupyter-widgets/base",
          "model_name": "LayoutModel",
          "model_module_version": "1.2.0",
          "state": {
            "_model_module": "@jupyter-widgets/base",
            "_model_module_version": "1.2.0",
            "_model_name": "LayoutModel",
            "_view_count": null,
            "_view_module": "@jupyter-widgets/base",
            "_view_module_version": "1.2.0",
            "_view_name": "LayoutView",
            "align_content": null,
            "align_items": null,
            "align_self": null,
            "border": null,
            "bottom": null,
            "display": null,
            "flex": null,
            "flex_flow": null,
            "grid_area": null,
            "grid_auto_columns": null,
            "grid_auto_flow": null,
            "grid_auto_rows": null,
            "grid_column": null,
            "grid_gap": null,
            "grid_row": null,
            "grid_template_areas": null,
            "grid_template_columns": null,
            "grid_template_rows": null,
            "height": null,
            "justify_content": null,
            "justify_items": null,
            "left": null,
            "margin": null,
            "max_height": null,
            "max_width": null,
            "min_height": null,
            "min_width": null,
            "object_fit": null,
            "object_position": null,
            "order": null,
            "overflow": null,
            "overflow_x": null,
            "overflow_y": null,
            "padding": null,
            "right": null,
            "top": null,
            "visibility": null,
            "width": null
          }
        },
        "50ef0c07e2824fecab7ebc090f2a1477": {
          "model_module": "@jupyter-widgets/base",
          "model_name": "LayoutModel",
          "model_module_version": "1.2.0",
          "state": {
            "_model_module": "@jupyter-widgets/base",
            "_model_module_version": "1.2.0",
            "_model_name": "LayoutModel",
            "_view_count": null,
            "_view_module": "@jupyter-widgets/base",
            "_view_module_version": "1.2.0",
            "_view_name": "LayoutView",
            "align_content": null,
            "align_items": null,
            "align_self": null,
            "border": null,
            "bottom": null,
            "display": null,
            "flex": null,
            "flex_flow": null,
            "grid_area": null,
            "grid_auto_columns": null,
            "grid_auto_flow": null,
            "grid_auto_rows": null,
            "grid_column": null,
            "grid_gap": null,
            "grid_row": null,
            "grid_template_areas": null,
            "grid_template_columns": null,
            "grid_template_rows": null,
            "height": null,
            "justify_content": null,
            "justify_items": null,
            "left": null,
            "margin": null,
            "max_height": null,
            "max_width": null,
            "min_height": null,
            "min_width": null,
            "object_fit": null,
            "object_position": null,
            "order": null,
            "overflow": null,
            "overflow_x": null,
            "overflow_y": null,
            "padding": null,
            "right": null,
            "top": null,
            "visibility": null,
            "width": null
          }
        },
        "142ad80536034b66b4d0326d89e8af34": {
          "model_module": "@jupyter-widgets/controls",
          "model_name": "DescriptionStyleModel",
          "model_module_version": "1.5.0",
          "state": {
            "_model_module": "@jupyter-widgets/controls",
            "_model_module_version": "1.5.0",
            "_model_name": "DescriptionStyleModel",
            "_view_count": null,
            "_view_module": "@jupyter-widgets/base",
            "_view_module_version": "1.2.0",
            "_view_name": "StyleView",
            "description_width": ""
          }
        },
        "8ed55f858288469e8285597079157831": {
          "model_module": "@jupyter-widgets/base",
          "model_name": "LayoutModel",
          "model_module_version": "1.2.0",
          "state": {
            "_model_module": "@jupyter-widgets/base",
            "_model_module_version": "1.2.0",
            "_model_name": "LayoutModel",
            "_view_count": null,
            "_view_module": "@jupyter-widgets/base",
            "_view_module_version": "1.2.0",
            "_view_name": "LayoutView",
            "align_content": null,
            "align_items": null,
            "align_self": null,
            "border": null,
            "bottom": null,
            "display": null,
            "flex": null,
            "flex_flow": null,
            "grid_area": null,
            "grid_auto_columns": null,
            "grid_auto_flow": null,
            "grid_auto_rows": null,
            "grid_column": null,
            "grid_gap": null,
            "grid_row": null,
            "grid_template_areas": null,
            "grid_template_columns": null,
            "grid_template_rows": null,
            "height": null,
            "justify_content": null,
            "justify_items": null,
            "left": null,
            "margin": null,
            "max_height": null,
            "max_width": null,
            "min_height": null,
            "min_width": null,
            "object_fit": null,
            "object_position": null,
            "order": null,
            "overflow": null,
            "overflow_x": null,
            "overflow_y": null,
            "padding": null,
            "right": null,
            "top": null,
            "visibility": null,
            "width": null
          }
        },
        "0b27c985db2c432bae84b297e7d7fcf3": {
          "model_module": "@jupyter-widgets/controls",
          "model_name": "ProgressStyleModel",
          "model_module_version": "1.5.0",
          "state": {
            "_model_module": "@jupyter-widgets/controls",
            "_model_module_version": "1.5.0",
            "_model_name": "ProgressStyleModel",
            "_view_count": null,
            "_view_module": "@jupyter-widgets/base",
            "_view_module_version": "1.2.0",
            "_view_name": "StyleView",
            "bar_color": null,
            "description_width": ""
          }
        },
        "d2acea2038ae4fc882bead03f87abcbd": {
          "model_module": "@jupyter-widgets/base",
          "model_name": "LayoutModel",
          "model_module_version": "1.2.0",
          "state": {
            "_model_module": "@jupyter-widgets/base",
            "_model_module_version": "1.2.0",
            "_model_name": "LayoutModel",
            "_view_count": null,
            "_view_module": "@jupyter-widgets/base",
            "_view_module_version": "1.2.0",
            "_view_name": "LayoutView",
            "align_content": null,
            "align_items": null,
            "align_self": null,
            "border": null,
            "bottom": null,
            "display": null,
            "flex": null,
            "flex_flow": null,
            "grid_area": null,
            "grid_auto_columns": null,
            "grid_auto_flow": null,
            "grid_auto_rows": null,
            "grid_column": null,
            "grid_gap": null,
            "grid_row": null,
            "grid_template_areas": null,
            "grid_template_columns": null,
            "grid_template_rows": null,
            "height": null,
            "justify_content": null,
            "justify_items": null,
            "left": null,
            "margin": null,
            "max_height": null,
            "max_width": null,
            "min_height": null,
            "min_width": null,
            "object_fit": null,
            "object_position": null,
            "order": null,
            "overflow": null,
            "overflow_x": null,
            "overflow_y": null,
            "padding": null,
            "right": null,
            "top": null,
            "visibility": null,
            "width": null
          }
        },
        "e26f30f31f424036af978db024c58315": {
          "model_module": "@jupyter-widgets/controls",
          "model_name": "DescriptionStyleModel",
          "model_module_version": "1.5.0",
          "state": {
            "_model_module": "@jupyter-widgets/controls",
            "_model_module_version": "1.5.0",
            "_model_name": "DescriptionStyleModel",
            "_view_count": null,
            "_view_module": "@jupyter-widgets/base",
            "_view_module_version": "1.2.0",
            "_view_name": "StyleView",
            "description_width": ""
          }
        },
        "39399525f91d4f1f86729a217ba70a96": {
          "model_module": "@jupyter-widgets/controls",
          "model_name": "HBoxModel",
          "model_module_version": "1.5.0",
          "state": {
            "_dom_classes": [],
            "_model_module": "@jupyter-widgets/controls",
            "_model_module_version": "1.5.0",
            "_model_name": "HBoxModel",
            "_view_count": null,
            "_view_module": "@jupyter-widgets/controls",
            "_view_module_version": "1.5.0",
            "_view_name": "HBoxView",
            "box_style": "",
            "children": [
              "IPY_MODEL_af81d3f5494941f88187e4c22649798d",
              "IPY_MODEL_29db4dc9d48947ccbb6f44fa44277c38",
              "IPY_MODEL_b5a878b651664d35b2c933c54699b91d"
            ],
            "layout": "IPY_MODEL_8ecac3c0dbea4e33a8bb5f42c9724c49"
          }
        },
        "af81d3f5494941f88187e4c22649798d": {
          "model_module": "@jupyter-widgets/controls",
          "model_name": "HTMLModel",
          "model_module_version": "1.5.0",
          "state": {
            "_dom_classes": [],
            "_model_module": "@jupyter-widgets/controls",
            "_model_module_version": "1.5.0",
            "_model_name": "HTMLModel",
            "_view_count": null,
            "_view_module": "@jupyter-widgets/controls",
            "_view_module_version": "1.5.0",
            "_view_name": "HTMLView",
            "description": "",
            "description_tooltip": null,
            "layout": "IPY_MODEL_c6c54425ddf94bd98b29a77816429685",
            "placeholder": "​",
            "style": "IPY_MODEL_3030365bdfa84686a635c780f64ab58c",
            "value": "model.safetensors: 100%"
          }
        },
        "29db4dc9d48947ccbb6f44fa44277c38": {
          "model_module": "@jupyter-widgets/controls",
          "model_name": "FloatProgressModel",
          "model_module_version": "1.5.0",
          "state": {
            "_dom_classes": [],
            "_model_module": "@jupyter-widgets/controls",
            "_model_module_version": "1.5.0",
            "_model_name": "FloatProgressModel",
            "_view_count": null,
            "_view_module": "@jupyter-widgets/controls",
            "_view_module_version": "1.5.0",
            "_view_name": "ProgressView",
            "bar_style": "success",
            "description": "",
            "description_tooltip": null,
            "layout": "IPY_MODEL_a688460baea34837b2ad6633355ca8ef",
            "max": 440449768,
            "min": 0,
            "orientation": "horizontal",
            "style": "IPY_MODEL_f4a01c61e1d2470badbfb80537ff24b0",
            "value": 440449768
          }
        },
        "b5a878b651664d35b2c933c54699b91d": {
          "model_module": "@jupyter-widgets/controls",
          "model_name": "HTMLModel",
          "model_module_version": "1.5.0",
          "state": {
            "_dom_classes": [],
            "_model_module": "@jupyter-widgets/controls",
            "_model_module_version": "1.5.0",
            "_model_name": "HTMLModel",
            "_view_count": null,
            "_view_module": "@jupyter-widgets/controls",
            "_view_module_version": "1.5.0",
            "_view_name": "HTMLView",
            "description": "",
            "description_tooltip": null,
            "layout": "IPY_MODEL_970ade3c20ae401eb08579e1ee6474f0",
            "placeholder": "​",
            "style": "IPY_MODEL_a73028e4c01d4e4ca5cc73b31a11281c",
            "value": " 440M/440M [00:13&lt;00:00, 28.8MB/s]"
          }
        },
        "8ecac3c0dbea4e33a8bb5f42c9724c49": {
          "model_module": "@jupyter-widgets/base",
          "model_name": "LayoutModel",
          "model_module_version": "1.2.0",
          "state": {
            "_model_module": "@jupyter-widgets/base",
            "_model_module_version": "1.2.0",
            "_model_name": "LayoutModel",
            "_view_count": null,
            "_view_module": "@jupyter-widgets/base",
            "_view_module_version": "1.2.0",
            "_view_name": "LayoutView",
            "align_content": null,
            "align_items": null,
            "align_self": null,
            "border": null,
            "bottom": null,
            "display": null,
            "flex": null,
            "flex_flow": null,
            "grid_area": null,
            "grid_auto_columns": null,
            "grid_auto_flow": null,
            "grid_auto_rows": null,
            "grid_column": null,
            "grid_gap": null,
            "grid_row": null,
            "grid_template_areas": null,
            "grid_template_columns": null,
            "grid_template_rows": null,
            "height": null,
            "justify_content": null,
            "justify_items": null,
            "left": null,
            "margin": null,
            "max_height": null,
            "max_width": null,
            "min_height": null,
            "min_width": null,
            "object_fit": null,
            "object_position": null,
            "order": null,
            "overflow": null,
            "overflow_x": null,
            "overflow_y": null,
            "padding": null,
            "right": null,
            "top": null,
            "visibility": null,
            "width": null
          }
        },
        "c6c54425ddf94bd98b29a77816429685": {
          "model_module": "@jupyter-widgets/base",
          "model_name": "LayoutModel",
          "model_module_version": "1.2.0",
          "state": {
            "_model_module": "@jupyter-widgets/base",
            "_model_module_version": "1.2.0",
            "_model_name": "LayoutModel",
            "_view_count": null,
            "_view_module": "@jupyter-widgets/base",
            "_view_module_version": "1.2.0",
            "_view_name": "LayoutView",
            "align_content": null,
            "align_items": null,
            "align_self": null,
            "border": null,
            "bottom": null,
            "display": null,
            "flex": null,
            "flex_flow": null,
            "grid_area": null,
            "grid_auto_columns": null,
            "grid_auto_flow": null,
            "grid_auto_rows": null,
            "grid_column": null,
            "grid_gap": null,
            "grid_row": null,
            "grid_template_areas": null,
            "grid_template_columns": null,
            "grid_template_rows": null,
            "height": null,
            "justify_content": null,
            "justify_items": null,
            "left": null,
            "margin": null,
            "max_height": null,
            "max_width": null,
            "min_height": null,
            "min_width": null,
            "object_fit": null,
            "object_position": null,
            "order": null,
            "overflow": null,
            "overflow_x": null,
            "overflow_y": null,
            "padding": null,
            "right": null,
            "top": null,
            "visibility": null,
            "width": null
          }
        },
        "3030365bdfa84686a635c780f64ab58c": {
          "model_module": "@jupyter-widgets/controls",
          "model_name": "DescriptionStyleModel",
          "model_module_version": "1.5.0",
          "state": {
            "_model_module": "@jupyter-widgets/controls",
            "_model_module_version": "1.5.0",
            "_model_name": "DescriptionStyleModel",
            "_view_count": null,
            "_view_module": "@jupyter-widgets/base",
            "_view_module_version": "1.2.0",
            "_view_name": "StyleView",
            "description_width": ""
          }
        },
        "a688460baea34837b2ad6633355ca8ef": {
          "model_module": "@jupyter-widgets/base",
          "model_name": "LayoutModel",
          "model_module_version": "1.2.0",
          "state": {
            "_model_module": "@jupyter-widgets/base",
            "_model_module_version": "1.2.0",
            "_model_name": "LayoutModel",
            "_view_count": null,
            "_view_module": "@jupyter-widgets/base",
            "_view_module_version": "1.2.0",
            "_view_name": "LayoutView",
            "align_content": null,
            "align_items": null,
            "align_self": null,
            "border": null,
            "bottom": null,
            "display": null,
            "flex": null,
            "flex_flow": null,
            "grid_area": null,
            "grid_auto_columns": null,
            "grid_auto_flow": null,
            "grid_auto_rows": null,
            "grid_column": null,
            "grid_gap": null,
            "grid_row": null,
            "grid_template_areas": null,
            "grid_template_columns": null,
            "grid_template_rows": null,
            "height": null,
            "justify_content": null,
            "justify_items": null,
            "left": null,
            "margin": null,
            "max_height": null,
            "max_width": null,
            "min_height": null,
            "min_width": null,
            "object_fit": null,
            "object_position": null,
            "order": null,
            "overflow": null,
            "overflow_x": null,
            "overflow_y": null,
            "padding": null,
            "right": null,
            "top": null,
            "visibility": null,
            "width": null
          }
        },
        "f4a01c61e1d2470badbfb80537ff24b0": {
          "model_module": "@jupyter-widgets/controls",
          "model_name": "ProgressStyleModel",
          "model_module_version": "1.5.0",
          "state": {
            "_model_module": "@jupyter-widgets/controls",
            "_model_module_version": "1.5.0",
            "_model_name": "ProgressStyleModel",
            "_view_count": null,
            "_view_module": "@jupyter-widgets/base",
            "_view_module_version": "1.2.0",
            "_view_name": "StyleView",
            "bar_color": null,
            "description_width": ""
          }
        },
        "970ade3c20ae401eb08579e1ee6474f0": {
          "model_module": "@jupyter-widgets/base",
          "model_name": "LayoutModel",
          "model_module_version": "1.2.0",
          "state": {
            "_model_module": "@jupyter-widgets/base",
            "_model_module_version": "1.2.0",
            "_model_name": "LayoutModel",
            "_view_count": null,
            "_view_module": "@jupyter-widgets/base",
            "_view_module_version": "1.2.0",
            "_view_name": "LayoutView",
            "align_content": null,
            "align_items": null,
            "align_self": null,
            "border": null,
            "bottom": null,
            "display": null,
            "flex": null,
            "flex_flow": null,
            "grid_area": null,
            "grid_auto_columns": null,
            "grid_auto_flow": null,
            "grid_auto_rows": null,
            "grid_column": null,
            "grid_gap": null,
            "grid_row": null,
            "grid_template_areas": null,
            "grid_template_columns": null,
            "grid_template_rows": null,
            "height": null,
            "justify_content": null,
            "justify_items": null,
            "left": null,
            "margin": null,
            "max_height": null,
            "max_width": null,
            "min_height": null,
            "min_width": null,
            "object_fit": null,
            "object_position": null,
            "order": null,
            "overflow": null,
            "overflow_x": null,
            "overflow_y": null,
            "padding": null,
            "right": null,
            "top": null,
            "visibility": null,
            "width": null
          }
        },
        "a73028e4c01d4e4ca5cc73b31a11281c": {
          "model_module": "@jupyter-widgets/controls",
          "model_name": "DescriptionStyleModel",
          "model_module_version": "1.5.0",
          "state": {
            "_model_module": "@jupyter-widgets/controls",
            "_model_module_version": "1.5.0",
            "_model_name": "DescriptionStyleModel",
            "_view_count": null,
            "_view_module": "@jupyter-widgets/base",
            "_view_module_version": "1.2.0",
            "_view_name": "StyleView",
            "description_width": ""
          }
        },
        "35fcfa884a654cf6a84f7cff55f7bb66": {
          "model_module": "@jupyter-widgets/controls",
          "model_name": "HBoxModel",
          "model_module_version": "1.5.0",
          "state": {
            "_dom_classes": [],
            "_model_module": "@jupyter-widgets/controls",
            "_model_module_version": "1.5.0",
            "_model_name": "HBoxModel",
            "_view_count": null,
            "_view_module": "@jupyter-widgets/controls",
            "_view_module_version": "1.5.0",
            "_view_name": "HBoxView",
            "box_style": "",
            "children": [
              "IPY_MODEL_ddc2f994071c40029a9f2a3fa8d2a456",
              "IPY_MODEL_b3b6264b54104312b97b0fd0be5fa449",
              "IPY_MODEL_d709b0e31aef4709bf7252e7629d088d"
            ],
            "layout": "IPY_MODEL_393e65b45cdc4b299b9021c936fd600c"
          }
        },
        "ddc2f994071c40029a9f2a3fa8d2a456": {
          "model_module": "@jupyter-widgets/controls",
          "model_name": "HTMLModel",
          "model_module_version": "1.5.0",
          "state": {
            "_dom_classes": [],
            "_model_module": "@jupyter-widgets/controls",
            "_model_module_version": "1.5.0",
            "_model_name": "HTMLModel",
            "_view_count": null,
            "_view_module": "@jupyter-widgets/controls",
            "_view_module_version": "1.5.0",
            "_view_name": "HTMLView",
            "description": "",
            "description_tooltip": null,
            "layout": "IPY_MODEL_188f4e06f4fd4b04a012ac078c3db422",
            "placeholder": "​",
            "style": "IPY_MODEL_b20bde5782e24ed5917dd1cd2848dcee",
            "value": "tokenizer_config.json: 100%"
          }
        },
        "b3b6264b54104312b97b0fd0be5fa449": {
          "model_module": "@jupyter-widgets/controls",
          "model_name": "FloatProgressModel",
          "model_module_version": "1.5.0",
          "state": {
            "_dom_classes": [],
            "_model_module": "@jupyter-widgets/controls",
            "_model_module_version": "1.5.0",
            "_model_name": "FloatProgressModel",
            "_view_count": null,
            "_view_module": "@jupyter-widgets/controls",
            "_view_module_version": "1.5.0",
            "_view_name": "ProgressView",
            "bar_style": "success",
            "description": "",
            "description_tooltip": null,
            "layout": "IPY_MODEL_4eeb8910c32a465fa586686e2af7004a",
            "max": 48,
            "min": 0,
            "orientation": "horizontal",
            "style": "IPY_MODEL_bb96a8c7817646fdaf7355ab3eeec159",
            "value": 48
          }
        },
        "d709b0e31aef4709bf7252e7629d088d": {
          "model_module": "@jupyter-widgets/controls",
          "model_name": "HTMLModel",
          "model_module_version": "1.5.0",
          "state": {
            "_dom_classes": [],
            "_model_module": "@jupyter-widgets/controls",
            "_model_module_version": "1.5.0",
            "_model_name": "HTMLModel",
            "_view_count": null,
            "_view_module": "@jupyter-widgets/controls",
            "_view_module_version": "1.5.0",
            "_view_name": "HTMLView",
            "description": "",
            "description_tooltip": null,
            "layout": "IPY_MODEL_0210cc85b5dc4e1d8c700549df844399",
            "placeholder": "​",
            "style": "IPY_MODEL_ecff882f582a4fa7bc38007230661a0c",
            "value": " 48.0/48.0 [00:00&lt;00:00, 4.95kB/s]"
          }
        },
        "393e65b45cdc4b299b9021c936fd600c": {
          "model_module": "@jupyter-widgets/base",
          "model_name": "LayoutModel",
          "model_module_version": "1.2.0",
          "state": {
            "_model_module": "@jupyter-widgets/base",
            "_model_module_version": "1.2.0",
            "_model_name": "LayoutModel",
            "_view_count": null,
            "_view_module": "@jupyter-widgets/base",
            "_view_module_version": "1.2.0",
            "_view_name": "LayoutView",
            "align_content": null,
            "align_items": null,
            "align_self": null,
            "border": null,
            "bottom": null,
            "display": null,
            "flex": null,
            "flex_flow": null,
            "grid_area": null,
            "grid_auto_columns": null,
            "grid_auto_flow": null,
            "grid_auto_rows": null,
            "grid_column": null,
            "grid_gap": null,
            "grid_row": null,
            "grid_template_areas": null,
            "grid_template_columns": null,
            "grid_template_rows": null,
            "height": null,
            "justify_content": null,
            "justify_items": null,
            "left": null,
            "margin": null,
            "max_height": null,
            "max_width": null,
            "min_height": null,
            "min_width": null,
            "object_fit": null,
            "object_position": null,
            "order": null,
            "overflow": null,
            "overflow_x": null,
            "overflow_y": null,
            "padding": null,
            "right": null,
            "top": null,
            "visibility": null,
            "width": null
          }
        },
        "188f4e06f4fd4b04a012ac078c3db422": {
          "model_module": "@jupyter-widgets/base",
          "model_name": "LayoutModel",
          "model_module_version": "1.2.0",
          "state": {
            "_model_module": "@jupyter-widgets/base",
            "_model_module_version": "1.2.0",
            "_model_name": "LayoutModel",
            "_view_count": null,
            "_view_module": "@jupyter-widgets/base",
            "_view_module_version": "1.2.0",
            "_view_name": "LayoutView",
            "align_content": null,
            "align_items": null,
            "align_self": null,
            "border": null,
            "bottom": null,
            "display": null,
            "flex": null,
            "flex_flow": null,
            "grid_area": null,
            "grid_auto_columns": null,
            "grid_auto_flow": null,
            "grid_auto_rows": null,
            "grid_column": null,
            "grid_gap": null,
            "grid_row": null,
            "grid_template_areas": null,
            "grid_template_columns": null,
            "grid_template_rows": null,
            "height": null,
            "justify_content": null,
            "justify_items": null,
            "left": null,
            "margin": null,
            "max_height": null,
            "max_width": null,
            "min_height": null,
            "min_width": null,
            "object_fit": null,
            "object_position": null,
            "order": null,
            "overflow": null,
            "overflow_x": null,
            "overflow_y": null,
            "padding": null,
            "right": null,
            "top": null,
            "visibility": null,
            "width": null
          }
        },
        "b20bde5782e24ed5917dd1cd2848dcee": {
          "model_module": "@jupyter-widgets/controls",
          "model_name": "DescriptionStyleModel",
          "model_module_version": "1.5.0",
          "state": {
            "_model_module": "@jupyter-widgets/controls",
            "_model_module_version": "1.5.0",
            "_model_name": "DescriptionStyleModel",
            "_view_count": null,
            "_view_module": "@jupyter-widgets/base",
            "_view_module_version": "1.2.0",
            "_view_name": "StyleView",
            "description_width": ""
          }
        },
        "4eeb8910c32a465fa586686e2af7004a": {
          "model_module": "@jupyter-widgets/base",
          "model_name": "LayoutModel",
          "model_module_version": "1.2.0",
          "state": {
            "_model_module": "@jupyter-widgets/base",
            "_model_module_version": "1.2.0",
            "_model_name": "LayoutModel",
            "_view_count": null,
            "_view_module": "@jupyter-widgets/base",
            "_view_module_version": "1.2.0",
            "_view_name": "LayoutView",
            "align_content": null,
            "align_items": null,
            "align_self": null,
            "border": null,
            "bottom": null,
            "display": null,
            "flex": null,
            "flex_flow": null,
            "grid_area": null,
            "grid_auto_columns": null,
            "grid_auto_flow": null,
            "grid_auto_rows": null,
            "grid_column": null,
            "grid_gap": null,
            "grid_row": null,
            "grid_template_areas": null,
            "grid_template_columns": null,
            "grid_template_rows": null,
            "height": null,
            "justify_content": null,
            "justify_items": null,
            "left": null,
            "margin": null,
            "max_height": null,
            "max_width": null,
            "min_height": null,
            "min_width": null,
            "object_fit": null,
            "object_position": null,
            "order": null,
            "overflow": null,
            "overflow_x": null,
            "overflow_y": null,
            "padding": null,
            "right": null,
            "top": null,
            "visibility": null,
            "width": null
          }
        },
        "bb96a8c7817646fdaf7355ab3eeec159": {
          "model_module": "@jupyter-widgets/controls",
          "model_name": "ProgressStyleModel",
          "model_module_version": "1.5.0",
          "state": {
            "_model_module": "@jupyter-widgets/controls",
            "_model_module_version": "1.5.0",
            "_model_name": "ProgressStyleModel",
            "_view_count": null,
            "_view_module": "@jupyter-widgets/base",
            "_view_module_version": "1.2.0",
            "_view_name": "StyleView",
            "bar_color": null,
            "description_width": ""
          }
        },
        "0210cc85b5dc4e1d8c700549df844399": {
          "model_module": "@jupyter-widgets/base",
          "model_name": "LayoutModel",
          "model_module_version": "1.2.0",
          "state": {
            "_model_module": "@jupyter-widgets/base",
            "_model_module_version": "1.2.0",
            "_model_name": "LayoutModel",
            "_view_count": null,
            "_view_module": "@jupyter-widgets/base",
            "_view_module_version": "1.2.0",
            "_view_name": "LayoutView",
            "align_content": null,
            "align_items": null,
            "align_self": null,
            "border": null,
            "bottom": null,
            "display": null,
            "flex": null,
            "flex_flow": null,
            "grid_area": null,
            "grid_auto_columns": null,
            "grid_auto_flow": null,
            "grid_auto_rows": null,
            "grid_column": null,
            "grid_gap": null,
            "grid_row": null,
            "grid_template_areas": null,
            "grid_template_columns": null,
            "grid_template_rows": null,
            "height": null,
            "justify_content": null,
            "justify_items": null,
            "left": null,
            "margin": null,
            "max_height": null,
            "max_width": null,
            "min_height": null,
            "min_width": null,
            "object_fit": null,
            "object_position": null,
            "order": null,
            "overflow": null,
            "overflow_x": null,
            "overflow_y": null,
            "padding": null,
            "right": null,
            "top": null,
            "visibility": null,
            "width": null
          }
        },
        "ecff882f582a4fa7bc38007230661a0c": {
          "model_module": "@jupyter-widgets/controls",
          "model_name": "DescriptionStyleModel",
          "model_module_version": "1.5.0",
          "state": {
            "_model_module": "@jupyter-widgets/controls",
            "_model_module_version": "1.5.0",
            "_model_name": "DescriptionStyleModel",
            "_view_count": null,
            "_view_module": "@jupyter-widgets/base",
            "_view_module_version": "1.2.0",
            "_view_name": "StyleView",
            "description_width": ""
          }
        },
        "39bc4ca9e98149c98798c4f2fd45be03": {
          "model_module": "@jupyter-widgets/controls",
          "model_name": "HBoxModel",
          "model_module_version": "1.5.0",
          "state": {
            "_dom_classes": [],
            "_model_module": "@jupyter-widgets/controls",
            "_model_module_version": "1.5.0",
            "_model_name": "HBoxModel",
            "_view_count": null,
            "_view_module": "@jupyter-widgets/controls",
            "_view_module_version": "1.5.0",
            "_view_name": "HBoxView",
            "box_style": "",
            "children": [
              "IPY_MODEL_da8ff793781a4e1b841abb43513bd8dd",
              "IPY_MODEL_97ba30723721498c88dae41eb6c78c1f",
              "IPY_MODEL_7f9b2c68ae59443d9dcc1f5669fe9262"
            ],
            "layout": "IPY_MODEL_953a50a38a434fdaac579cb678daec5d"
          }
        },
        "da8ff793781a4e1b841abb43513bd8dd": {
          "model_module": "@jupyter-widgets/controls",
          "model_name": "HTMLModel",
          "model_module_version": "1.5.0",
          "state": {
            "_dom_classes": [],
            "_model_module": "@jupyter-widgets/controls",
            "_model_module_version": "1.5.0",
            "_model_name": "HTMLModel",
            "_view_count": null,
            "_view_module": "@jupyter-widgets/controls",
            "_view_module_version": "1.5.0",
            "_view_name": "HTMLView",
            "description": "",
            "description_tooltip": null,
            "layout": "IPY_MODEL_148f792c5ce746bfb13b39ae8fa52f5d",
            "placeholder": "​",
            "style": "IPY_MODEL_b8716be1bf4a426ca07569de8c6b8f01",
            "value": "vocab.txt: 100%"
          }
        },
        "97ba30723721498c88dae41eb6c78c1f": {
          "model_module": "@jupyter-widgets/controls",
          "model_name": "FloatProgressModel",
          "model_module_version": "1.5.0",
          "state": {
            "_dom_classes": [],
            "_model_module": "@jupyter-widgets/controls",
            "_model_module_version": "1.5.0",
            "_model_name": "FloatProgressModel",
            "_view_count": null,
            "_view_module": "@jupyter-widgets/controls",
            "_view_module_version": "1.5.0",
            "_view_name": "ProgressView",
            "bar_style": "success",
            "description": "",
            "description_tooltip": null,
            "layout": "IPY_MODEL_f6a4e5eb43094d4a8c4a42c55083a315",
            "max": 231508,
            "min": 0,
            "orientation": "horizontal",
            "style": "IPY_MODEL_9370d9a747ee4f33a969c8bed1479bf7",
            "value": 231508
          }
        },
        "7f9b2c68ae59443d9dcc1f5669fe9262": {
          "model_module": "@jupyter-widgets/controls",
          "model_name": "HTMLModel",
          "model_module_version": "1.5.0",
          "state": {
            "_dom_classes": [],
            "_model_module": "@jupyter-widgets/controls",
            "_model_module_version": "1.5.0",
            "_model_name": "HTMLModel",
            "_view_count": null,
            "_view_module": "@jupyter-widgets/controls",
            "_view_module_version": "1.5.0",
            "_view_name": "HTMLView",
            "description": "",
            "description_tooltip": null,
            "layout": "IPY_MODEL_58ecbff408144a7e94992c9680143d5c",
            "placeholder": "​",
            "style": "IPY_MODEL_3d948c4608794425ab3d4d863f1b49b6",
            "value": " 232k/232k [00:00&lt;00:00, 10.1MB/s]"
          }
        },
        "953a50a38a434fdaac579cb678daec5d": {
          "model_module": "@jupyter-widgets/base",
          "model_name": "LayoutModel",
          "model_module_version": "1.2.0",
          "state": {
            "_model_module": "@jupyter-widgets/base",
            "_model_module_version": "1.2.0",
            "_model_name": "LayoutModel",
            "_view_count": null,
            "_view_module": "@jupyter-widgets/base",
            "_view_module_version": "1.2.0",
            "_view_name": "LayoutView",
            "align_content": null,
            "align_items": null,
            "align_self": null,
            "border": null,
            "bottom": null,
            "display": null,
            "flex": null,
            "flex_flow": null,
            "grid_area": null,
            "grid_auto_columns": null,
            "grid_auto_flow": null,
            "grid_auto_rows": null,
            "grid_column": null,
            "grid_gap": null,
            "grid_row": null,
            "grid_template_areas": null,
            "grid_template_columns": null,
            "grid_template_rows": null,
            "height": null,
            "justify_content": null,
            "justify_items": null,
            "left": null,
            "margin": null,
            "max_height": null,
            "max_width": null,
            "min_height": null,
            "min_width": null,
            "object_fit": null,
            "object_position": null,
            "order": null,
            "overflow": null,
            "overflow_x": null,
            "overflow_y": null,
            "padding": null,
            "right": null,
            "top": null,
            "visibility": null,
            "width": null
          }
        },
        "148f792c5ce746bfb13b39ae8fa52f5d": {
          "model_module": "@jupyter-widgets/base",
          "model_name": "LayoutModel",
          "model_module_version": "1.2.0",
          "state": {
            "_model_module": "@jupyter-widgets/base",
            "_model_module_version": "1.2.0",
            "_model_name": "LayoutModel",
            "_view_count": null,
            "_view_module": "@jupyter-widgets/base",
            "_view_module_version": "1.2.0",
            "_view_name": "LayoutView",
            "align_content": null,
            "align_items": null,
            "align_self": null,
            "border": null,
            "bottom": null,
            "display": null,
            "flex": null,
            "flex_flow": null,
            "grid_area": null,
            "grid_auto_columns": null,
            "grid_auto_flow": null,
            "grid_auto_rows": null,
            "grid_column": null,
            "grid_gap": null,
            "grid_row": null,
            "grid_template_areas": null,
            "grid_template_columns": null,
            "grid_template_rows": null,
            "height": null,
            "justify_content": null,
            "justify_items": null,
            "left": null,
            "margin": null,
            "max_height": null,
            "max_width": null,
            "min_height": null,
            "min_width": null,
            "object_fit": null,
            "object_position": null,
            "order": null,
            "overflow": null,
            "overflow_x": null,
            "overflow_y": null,
            "padding": null,
            "right": null,
            "top": null,
            "visibility": null,
            "width": null
          }
        },
        "b8716be1bf4a426ca07569de8c6b8f01": {
          "model_module": "@jupyter-widgets/controls",
          "model_name": "DescriptionStyleModel",
          "model_module_version": "1.5.0",
          "state": {
            "_model_module": "@jupyter-widgets/controls",
            "_model_module_version": "1.5.0",
            "_model_name": "DescriptionStyleModel",
            "_view_count": null,
            "_view_module": "@jupyter-widgets/base",
            "_view_module_version": "1.2.0",
            "_view_name": "StyleView",
            "description_width": ""
          }
        },
        "f6a4e5eb43094d4a8c4a42c55083a315": {
          "model_module": "@jupyter-widgets/base",
          "model_name": "LayoutModel",
          "model_module_version": "1.2.0",
          "state": {
            "_model_module": "@jupyter-widgets/base",
            "_model_module_version": "1.2.0",
            "_model_name": "LayoutModel",
            "_view_count": null,
            "_view_module": "@jupyter-widgets/base",
            "_view_module_version": "1.2.0",
            "_view_name": "LayoutView",
            "align_content": null,
            "align_items": null,
            "align_self": null,
            "border": null,
            "bottom": null,
            "display": null,
            "flex": null,
            "flex_flow": null,
            "grid_area": null,
            "grid_auto_columns": null,
            "grid_auto_flow": null,
            "grid_auto_rows": null,
            "grid_column": null,
            "grid_gap": null,
            "grid_row": null,
            "grid_template_areas": null,
            "grid_template_columns": null,
            "grid_template_rows": null,
            "height": null,
            "justify_content": null,
            "justify_items": null,
            "left": null,
            "margin": null,
            "max_height": null,
            "max_width": null,
            "min_height": null,
            "min_width": null,
            "object_fit": null,
            "object_position": null,
            "order": null,
            "overflow": null,
            "overflow_x": null,
            "overflow_y": null,
            "padding": null,
            "right": null,
            "top": null,
            "visibility": null,
            "width": null
          }
        },
        "9370d9a747ee4f33a969c8bed1479bf7": {
          "model_module": "@jupyter-widgets/controls",
          "model_name": "ProgressStyleModel",
          "model_module_version": "1.5.0",
          "state": {
            "_model_module": "@jupyter-widgets/controls",
            "_model_module_version": "1.5.0",
            "_model_name": "ProgressStyleModel",
            "_view_count": null,
            "_view_module": "@jupyter-widgets/base",
            "_view_module_version": "1.2.0",
            "_view_name": "StyleView",
            "bar_color": null,
            "description_width": ""
          }
        },
        "58ecbff408144a7e94992c9680143d5c": {
          "model_module": "@jupyter-widgets/base",
          "model_name": "LayoutModel",
          "model_module_version": "1.2.0",
          "state": {
            "_model_module": "@jupyter-widgets/base",
            "_model_module_version": "1.2.0",
            "_model_name": "LayoutModel",
            "_view_count": null,
            "_view_module": "@jupyter-widgets/base",
            "_view_module_version": "1.2.0",
            "_view_name": "LayoutView",
            "align_content": null,
            "align_items": null,
            "align_self": null,
            "border": null,
            "bottom": null,
            "display": null,
            "flex": null,
            "flex_flow": null,
            "grid_area": null,
            "grid_auto_columns": null,
            "grid_auto_flow": null,
            "grid_auto_rows": null,
            "grid_column": null,
            "grid_gap": null,
            "grid_row": null,
            "grid_template_areas": null,
            "grid_template_columns": null,
            "grid_template_rows": null,
            "height": null,
            "justify_content": null,
            "justify_items": null,
            "left": null,
            "margin": null,
            "max_height": null,
            "max_width": null,
            "min_height": null,
            "min_width": null,
            "object_fit": null,
            "object_position": null,
            "order": null,
            "overflow": null,
            "overflow_x": null,
            "overflow_y": null,
            "padding": null,
            "right": null,
            "top": null,
            "visibility": null,
            "width": null
          }
        },
        "3d948c4608794425ab3d4d863f1b49b6": {
          "model_module": "@jupyter-widgets/controls",
          "model_name": "DescriptionStyleModel",
          "model_module_version": "1.5.0",
          "state": {
            "_model_module": "@jupyter-widgets/controls",
            "_model_module_version": "1.5.0",
            "_model_name": "DescriptionStyleModel",
            "_view_count": null,
            "_view_module": "@jupyter-widgets/base",
            "_view_module_version": "1.2.0",
            "_view_name": "StyleView",
            "description_width": ""
          }
        },
        "751abba0e88f493abb34a21a122a2f99": {
          "model_module": "@jupyter-widgets/controls",
          "model_name": "HBoxModel",
          "model_module_version": "1.5.0",
          "state": {
            "_dom_classes": [],
            "_model_module": "@jupyter-widgets/controls",
            "_model_module_version": "1.5.0",
            "_model_name": "HBoxModel",
            "_view_count": null,
            "_view_module": "@jupyter-widgets/controls",
            "_view_module_version": "1.5.0",
            "_view_name": "HBoxView",
            "box_style": "",
            "children": [
              "IPY_MODEL_41bcf49faa424216a246bc2d83cac3be",
              "IPY_MODEL_204903388fc3433183e4da3d77e94f9a",
              "IPY_MODEL_84db81c60f1c49bcb30f60e8dc5b1101"
            ],
            "layout": "IPY_MODEL_40838ee85f22492a9bac4f69788c8a30"
          }
        },
        "41bcf49faa424216a246bc2d83cac3be": {
          "model_module": "@jupyter-widgets/controls",
          "model_name": "HTMLModel",
          "model_module_version": "1.5.0",
          "state": {
            "_dom_classes": [],
            "_model_module": "@jupyter-widgets/controls",
            "_model_module_version": "1.5.0",
            "_model_name": "HTMLModel",
            "_view_count": null,
            "_view_module": "@jupyter-widgets/controls",
            "_view_module_version": "1.5.0",
            "_view_name": "HTMLView",
            "description": "",
            "description_tooltip": null,
            "layout": "IPY_MODEL_a6eb1f97f3f44270a06bd837257aa309",
            "placeholder": "​",
            "style": "IPY_MODEL_143d91cd88b046879cd59af2bfc24500",
            "value": "tokenizer.json: 100%"
          }
        },
        "204903388fc3433183e4da3d77e94f9a": {
          "model_module": "@jupyter-widgets/controls",
          "model_name": "FloatProgressModel",
          "model_module_version": "1.5.0",
          "state": {
            "_dom_classes": [],
            "_model_module": "@jupyter-widgets/controls",
            "_model_module_version": "1.5.0",
            "_model_name": "FloatProgressModel",
            "_view_count": null,
            "_view_module": "@jupyter-widgets/controls",
            "_view_module_version": "1.5.0",
            "_view_name": "ProgressView",
            "bar_style": "success",
            "description": "",
            "description_tooltip": null,
            "layout": "IPY_MODEL_35d5764b1d1248fbb8afc47908a1ec50",
            "max": 466062,
            "min": 0,
            "orientation": "horizontal",
            "style": "IPY_MODEL_9a48ce52ce214fdbb573f9e60f400176",
            "value": 466062
          }
        },
        "84db81c60f1c49bcb30f60e8dc5b1101": {
          "model_module": "@jupyter-widgets/controls",
          "model_name": "HTMLModel",
          "model_module_version": "1.5.0",
          "state": {
            "_dom_classes": [],
            "_model_module": "@jupyter-widgets/controls",
            "_model_module_version": "1.5.0",
            "_model_name": "HTMLModel",
            "_view_count": null,
            "_view_module": "@jupyter-widgets/controls",
            "_view_module_version": "1.5.0",
            "_view_name": "HTMLView",
            "description": "",
            "description_tooltip": null,
            "layout": "IPY_MODEL_0d7f6f8ec1094c279796e78e8f3789cd",
            "placeholder": "​",
            "style": "IPY_MODEL_3f54922dfda34fcda356e4acf8ca0253",
            "value": " 466k/466k [00:00&lt;00:00, 2.06MB/s]"
          }
        },
        "40838ee85f22492a9bac4f69788c8a30": {
          "model_module": "@jupyter-widgets/base",
          "model_name": "LayoutModel",
          "model_module_version": "1.2.0",
          "state": {
            "_model_module": "@jupyter-widgets/base",
            "_model_module_version": "1.2.0",
            "_model_name": "LayoutModel",
            "_view_count": null,
            "_view_module": "@jupyter-widgets/base",
            "_view_module_version": "1.2.0",
            "_view_name": "LayoutView",
            "align_content": null,
            "align_items": null,
            "align_self": null,
            "border": null,
            "bottom": null,
            "display": null,
            "flex": null,
            "flex_flow": null,
            "grid_area": null,
            "grid_auto_columns": null,
            "grid_auto_flow": null,
            "grid_auto_rows": null,
            "grid_column": null,
            "grid_gap": null,
            "grid_row": null,
            "grid_template_areas": null,
            "grid_template_columns": null,
            "grid_template_rows": null,
            "height": null,
            "justify_content": null,
            "justify_items": null,
            "left": null,
            "margin": null,
            "max_height": null,
            "max_width": null,
            "min_height": null,
            "min_width": null,
            "object_fit": null,
            "object_position": null,
            "order": null,
            "overflow": null,
            "overflow_x": null,
            "overflow_y": null,
            "padding": null,
            "right": null,
            "top": null,
            "visibility": null,
            "width": null
          }
        },
        "a6eb1f97f3f44270a06bd837257aa309": {
          "model_module": "@jupyter-widgets/base",
          "model_name": "LayoutModel",
          "model_module_version": "1.2.0",
          "state": {
            "_model_module": "@jupyter-widgets/base",
            "_model_module_version": "1.2.0",
            "_model_name": "LayoutModel",
            "_view_count": null,
            "_view_module": "@jupyter-widgets/base",
            "_view_module_version": "1.2.0",
            "_view_name": "LayoutView",
            "align_content": null,
            "align_items": null,
            "align_self": null,
            "border": null,
            "bottom": null,
            "display": null,
            "flex": null,
            "flex_flow": null,
            "grid_area": null,
            "grid_auto_columns": null,
            "grid_auto_flow": null,
            "grid_auto_rows": null,
            "grid_column": null,
            "grid_gap": null,
            "grid_row": null,
            "grid_template_areas": null,
            "grid_template_columns": null,
            "grid_template_rows": null,
            "height": null,
            "justify_content": null,
            "justify_items": null,
            "left": null,
            "margin": null,
            "max_height": null,
            "max_width": null,
            "min_height": null,
            "min_width": null,
            "object_fit": null,
            "object_position": null,
            "order": null,
            "overflow": null,
            "overflow_x": null,
            "overflow_y": null,
            "padding": null,
            "right": null,
            "top": null,
            "visibility": null,
            "width": null
          }
        },
        "143d91cd88b046879cd59af2bfc24500": {
          "model_module": "@jupyter-widgets/controls",
          "model_name": "DescriptionStyleModel",
          "model_module_version": "1.5.0",
          "state": {
            "_model_module": "@jupyter-widgets/controls",
            "_model_module_version": "1.5.0",
            "_model_name": "DescriptionStyleModel",
            "_view_count": null,
            "_view_module": "@jupyter-widgets/base",
            "_view_module_version": "1.2.0",
            "_view_name": "StyleView",
            "description_width": ""
          }
        },
        "35d5764b1d1248fbb8afc47908a1ec50": {
          "model_module": "@jupyter-widgets/base",
          "model_name": "LayoutModel",
          "model_module_version": "1.2.0",
          "state": {
            "_model_module": "@jupyter-widgets/base",
            "_model_module_version": "1.2.0",
            "_model_name": "LayoutModel",
            "_view_count": null,
            "_view_module": "@jupyter-widgets/base",
            "_view_module_version": "1.2.0",
            "_view_name": "LayoutView",
            "align_content": null,
            "align_items": null,
            "align_self": null,
            "border": null,
            "bottom": null,
            "display": null,
            "flex": null,
            "flex_flow": null,
            "grid_area": null,
            "grid_auto_columns": null,
            "grid_auto_flow": null,
            "grid_auto_rows": null,
            "grid_column": null,
            "grid_gap": null,
            "grid_row": null,
            "grid_template_areas": null,
            "grid_template_columns": null,
            "grid_template_rows": null,
            "height": null,
            "justify_content": null,
            "justify_items": null,
            "left": null,
            "margin": null,
            "max_height": null,
            "max_width": null,
            "min_height": null,
            "min_width": null,
            "object_fit": null,
            "object_position": null,
            "order": null,
            "overflow": null,
            "overflow_x": null,
            "overflow_y": null,
            "padding": null,
            "right": null,
            "top": null,
            "visibility": null,
            "width": null
          }
        },
        "9a48ce52ce214fdbb573f9e60f400176": {
          "model_module": "@jupyter-widgets/controls",
          "model_name": "ProgressStyleModel",
          "model_module_version": "1.5.0",
          "state": {
            "_model_module": "@jupyter-widgets/controls",
            "_model_module_version": "1.5.0",
            "_model_name": "ProgressStyleModel",
            "_view_count": null,
            "_view_module": "@jupyter-widgets/base",
            "_view_module_version": "1.2.0",
            "_view_name": "StyleView",
            "bar_color": null,
            "description_width": ""
          }
        },
        "0d7f6f8ec1094c279796e78e8f3789cd": {
          "model_module": "@jupyter-widgets/base",
          "model_name": "LayoutModel",
          "model_module_version": "1.2.0",
          "state": {
            "_model_module": "@jupyter-widgets/base",
            "_model_module_version": "1.2.0",
            "_model_name": "LayoutModel",
            "_view_count": null,
            "_view_module": "@jupyter-widgets/base",
            "_view_module_version": "1.2.0",
            "_view_name": "LayoutView",
            "align_content": null,
            "align_items": null,
            "align_self": null,
            "border": null,
            "bottom": null,
            "display": null,
            "flex": null,
            "flex_flow": null,
            "grid_area": null,
            "grid_auto_columns": null,
            "grid_auto_flow": null,
            "grid_auto_rows": null,
            "grid_column": null,
            "grid_gap": null,
            "grid_row": null,
            "grid_template_areas": null,
            "grid_template_columns": null,
            "grid_template_rows": null,
            "height": null,
            "justify_content": null,
            "justify_items": null,
            "left": null,
            "margin": null,
            "max_height": null,
            "max_width": null,
            "min_height": null,
            "min_width": null,
            "object_fit": null,
            "object_position": null,
            "order": null,
            "overflow": null,
            "overflow_x": null,
            "overflow_y": null,
            "padding": null,
            "right": null,
            "top": null,
            "visibility": null,
            "width": null
          }
        },
        "3f54922dfda34fcda356e4acf8ca0253": {
          "model_module": "@jupyter-widgets/controls",
          "model_name": "DescriptionStyleModel",
          "model_module_version": "1.5.0",
          "state": {
            "_model_module": "@jupyter-widgets/controls",
            "_model_module_version": "1.5.0",
            "_model_name": "DescriptionStyleModel",
            "_view_count": null,
            "_view_module": "@jupyter-widgets/base",
            "_view_module_version": "1.2.0",
            "_view_name": "StyleView",
            "description_width": ""
          }
        }
      }
    }
  },
  "cells": [
    {
      "cell_type": "markdown",
      "source": [
        "Name : Mai Phuong Nguyen\n",
        "\n",
        "Student ID: 587089\n",
        "\n"
      ],
      "metadata": {
        "id": "QNoH7jovB2-v"
      }
    },
    {
      "cell_type": "markdown",
      "source": [
        "# Lab 2 :  Recurrent Neural Networks Task\n"
      ],
      "metadata": {
        "id": "0pQ8MhNTHV21"
      }
    },
    {
      "cell_type": "markdown",
      "source": [
        "**For each task, train and validate the following models**\n",
        "\n",
        "1.  RNN - the simplest RNN architecture implemented and trained by yourself from scratch.\n",
        "2.   GRU - GRU net implemented and trained by yourself from scratch.     Hint: try 2 GRU layers\n",
        "3. LSTM - GRU net implemented and trained by yourself from scratch.      Hint: try 2 LSTM layers\n",
        "\n",
        "Perform sentiment analysis to predict the sentiments\n",
        "concerning overall satisfaction, side effects, and effectiveness of user reviews on specific drugs.\n",
        "\n",
        "\n",
        "\n",
        "**Predict overall rating (druglib.com)**\n",
        "- RNN\n",
        "- GRU\n",
        "- LSTM\n",
        "\n",
        "**Predict effectiveness/Benefits (druglib.com)**\n",
        "- RNN\n",
        "- GRU\n",
        "- LSTM\n",
        "\n",
        "\n",
        "**Required outcomes (Jupyter Notebook):**\n",
        "\n",
        "- Trained models: 6 models (2 RNN, 2 GRU, 2 LSTM) for 2 objectives (predict overall rating, predict effectiveness)\n",
        "\n",
        "- For every model: the following metrics are calculated/plotted: accuracy, balanced_accuracy, f1, roc_auc, precision, recall, and confusion matrix. For more details, please check:  Metrics and scoring: quantifying the quality of predictions\n",
        "\n",
        "- For every model/experiment: Learning curves for the loss function (weighted kappa, BinaryLogLoss, or CategoricalCrossEntropy) are plotted. The train learning curves must be in blue and the test curves must be in red."
      ],
      "metadata": {
        "id": "IqKS4xaxCWwm"
      }
    },
    {
      "cell_type": "code",
      "source": [
        "!pip install keras"
      ],
      "metadata": {
        "colab": {
          "base_uri": "https://localhost:8080/"
        },
        "id": "WSFs8SuFgb55",
        "outputId": "2bdd72b3-311d-45b3-8b6d-647e261d20da"
      },
      "execution_count": 1,
      "outputs": [
        {
          "output_type": "stream",
          "name": "stdout",
          "text": [
            "Requirement already satisfied: keras in /usr/local/lib/python3.11/dist-packages (3.8.0)\n",
            "Requirement already satisfied: absl-py in /usr/local/lib/python3.11/dist-packages (from keras) (1.4.0)\n",
            "Requirement already satisfied: numpy in /usr/local/lib/python3.11/dist-packages (from keras) (2.0.2)\n",
            "Requirement already satisfied: rich in /usr/local/lib/python3.11/dist-packages (from keras) (13.9.4)\n",
            "Requirement already satisfied: namex in /usr/local/lib/python3.11/dist-packages (from keras) (0.1.0)\n",
            "Requirement already satisfied: h5py in /usr/local/lib/python3.11/dist-packages (from keras) (3.13.0)\n",
            "Requirement already satisfied: optree in /usr/local/lib/python3.11/dist-packages (from keras) (0.16.0)\n",
            "Requirement already satisfied: ml-dtypes in /usr/local/lib/python3.11/dist-packages (from keras) (0.4.1)\n",
            "Requirement already satisfied: packaging in /usr/local/lib/python3.11/dist-packages (from keras) (24.2)\n",
            "Requirement already satisfied: typing-extensions>=4.6.0 in /usr/local/lib/python3.11/dist-packages (from optree->keras) (4.14.0)\n",
            "Requirement already satisfied: markdown-it-py>=2.2.0 in /usr/local/lib/python3.11/dist-packages (from rich->keras) (3.0.0)\n",
            "Requirement already satisfied: pygments<3.0.0,>=2.13.0 in /usr/local/lib/python3.11/dist-packages (from rich->keras) (2.19.1)\n",
            "Requirement already satisfied: mdurl~=0.1 in /usr/local/lib/python3.11/dist-packages (from markdown-it-py>=2.2.0->rich->keras) (0.1.2)\n"
          ]
        }
      ]
    },
    {
      "cell_type": "code",
      "source": [
        "import pandas as pd\n",
        "import numpy as np\n",
        "from sklearn.model_selection import train_test_split\n",
        "from sklearn.preprocessing import LabelEncoder\n",
        "from tensorflow.keras.preprocessing.text import Tokenizer\n",
        "from tensorflow.keras.preprocessing.sequence import pad_sequences\n",
        "from tensorflow.keras.models import Sequential\n",
        "from tensorflow.keras.callbacks import EarlyStopping\n",
        "from tensorflow.keras.regularizers import l2\n",
        "from tensorflow.keras.layers import Embedding, SimpleRNN, GRU, LSTM, Dense, Dropout\n",
        "from sklearn.metrics import accuracy_score, balanced_accuracy_score, f1_score, roc_auc_score, precision_score, recall_score, confusion_matrix\n",
        "import matplotlib.pyplot as plt\n",
        "from tensorflow.keras.optimizers import Adam\n",
        "import tensorflow as tf\n",
        "\n",
        "from tensorflow.keras.models import Sequential\n",
        "from tensorflow.keras.layers import (\n",
        "    Embedding, SimpleRNN, GRU, LSTM, Dense, Dropout,\n",
        "    Bidirectional, BatchNormalization\n",
        ")\n",
        "\n",
        "\n",
        "import re"
      ],
      "metadata": {
        "id": "-GxTr6-vc9BX"
      },
      "execution_count": 9,
      "outputs": []
    },
    {
      "cell_type": "markdown",
      "source": [
        "# 1. Reading the data and prepare them"
      ],
      "metadata": {
        "id": "p4vRz3oUHFt_"
      }
    },
    {
      "cell_type": "code",
      "source": [
        "\n",
        "\n",
        "df_train = pd.read_csv('drugLibTrain_raw.tsv', sep='\\t')\n",
        "df_test = pd.read_csv('drugLibTest_raw.tsv', sep='\\t')\n",
        "\n",
        "\n",
        "df_train['commentsReview'] = df_train['commentsReview'].astype(str).fillna('')\n",
        "df_test['commentsReview'] = df_test['commentsReview'].astype(str).fillna('')\n",
        "\n",
        "X_train = df_train['commentsReview']\n",
        "y_train_rating = df_train['rating']\n",
        "y_train_effectiveness = df_train['effectiveness']\n",
        "\n",
        "X_test = df_test['commentsReview']\n",
        "y_test_rating = df_test['rating']\n",
        "y_test_effectiveness = df_test['effectiveness']\n",
        "\n",
        "df_test.head(5)\n",
        "\n",
        "\n",
        "\n",
        "\n"
      ],
      "metadata": {
        "colab": {
          "base_uri": "https://localhost:8080/",
          "height": 310
        },
        "id": "0tZwIExNHL8r",
        "outputId": "b3cf53df-c45b-4efc-a5ae-d113b56f3b0f"
      },
      "execution_count": 10,
      "outputs": [
        {
          "output_type": "execute_result",
          "data": {
            "text/plain": [
              "   Unnamed: 0 urlDrugName  rating           effectiveness  \\\n",
              "0        1366      biaxin       9  Considerably Effective   \n",
              "1        3724    lamictal       9        Highly Effective   \n",
              "2        3824    depakene       4    Moderately Effective   \n",
              "3         969     sarafem      10        Highly Effective   \n",
              "4         696    accutane      10        Highly Effective   \n",
              "\n",
              "           sideEffects           condition  \\\n",
              "0    Mild Side Effects     sinus infection   \n",
              "1    Mild Side Effects    bipolar disorder   \n",
              "2  Severe Side Effects    bipolar disorder   \n",
              "3      No Side Effects  bi-polar / anxiety   \n",
              "4    Mild Side Effects        nodular acne   \n",
              "\n",
              "                                      benefitsReview  \\\n",
              "0  The antibiotic may have destroyed bacteria cau...   \n",
              "1  Lamictal stabilized my serious mood swings. On...   \n",
              "2  Initial benefits were comparable to the brand ...   \n",
              "3  It controlls my mood swings. It helps me think...   \n",
              "4  Within one week of treatment superficial acne ...   \n",
              "\n",
              "                                   sideEffectsReview  \\\n",
              "0                      Some back pain, some nauseau.   \n",
              "1  Drowsiness, a bit of mental numbness. If you t...   \n",
              "2  Depakene has a very thin coating, which caused...   \n",
              "3            I didnt really notice any side effects.   \n",
              "4  Side effects included moderate to severe dry s...   \n",
              "\n",
              "                                      commentsReview  \n",
              "0  Took the antibiotics for 14 days. Sinus infect...  \n",
              "1  Severe mood swings between hypomania and depre...  \n",
              "2  Depakote was prescribed to me by a Kaiser psyc...  \n",
              "3  This drug may not be for everyone but its wond...  \n",
              "4  Drug was taken in gelatin tablet at 0.5 mg per...  "
            ],
            "text/html": [
              "\n",
              "  <div id=\"df-bf027209-21ea-47b0-9b0f-4ea21bb70067\" class=\"colab-df-container\">\n",
              "    <div>\n",
              "<style scoped>\n",
              "    .dataframe tbody tr th:only-of-type {\n",
              "        vertical-align: middle;\n",
              "    }\n",
              "\n",
              "    .dataframe tbody tr th {\n",
              "        vertical-align: top;\n",
              "    }\n",
              "\n",
              "    .dataframe thead th {\n",
              "        text-align: right;\n",
              "    }\n",
              "</style>\n",
              "<table border=\"1\" class=\"dataframe\">\n",
              "  <thead>\n",
              "    <tr style=\"text-align: right;\">\n",
              "      <th></th>\n",
              "      <th>Unnamed: 0</th>\n",
              "      <th>urlDrugName</th>\n",
              "      <th>rating</th>\n",
              "      <th>effectiveness</th>\n",
              "      <th>sideEffects</th>\n",
              "      <th>condition</th>\n",
              "      <th>benefitsReview</th>\n",
              "      <th>sideEffectsReview</th>\n",
              "      <th>commentsReview</th>\n",
              "    </tr>\n",
              "  </thead>\n",
              "  <tbody>\n",
              "    <tr>\n",
              "      <th>0</th>\n",
              "      <td>1366</td>\n",
              "      <td>biaxin</td>\n",
              "      <td>9</td>\n",
              "      <td>Considerably Effective</td>\n",
              "      <td>Mild Side Effects</td>\n",
              "      <td>sinus infection</td>\n",
              "      <td>The antibiotic may have destroyed bacteria cau...</td>\n",
              "      <td>Some back pain, some nauseau.</td>\n",
              "      <td>Took the antibiotics for 14 days. Sinus infect...</td>\n",
              "    </tr>\n",
              "    <tr>\n",
              "      <th>1</th>\n",
              "      <td>3724</td>\n",
              "      <td>lamictal</td>\n",
              "      <td>9</td>\n",
              "      <td>Highly Effective</td>\n",
              "      <td>Mild Side Effects</td>\n",
              "      <td>bipolar disorder</td>\n",
              "      <td>Lamictal stabilized my serious mood swings. On...</td>\n",
              "      <td>Drowsiness, a bit of mental numbness. If you t...</td>\n",
              "      <td>Severe mood swings between hypomania and depre...</td>\n",
              "    </tr>\n",
              "    <tr>\n",
              "      <th>2</th>\n",
              "      <td>3824</td>\n",
              "      <td>depakene</td>\n",
              "      <td>4</td>\n",
              "      <td>Moderately Effective</td>\n",
              "      <td>Severe Side Effects</td>\n",
              "      <td>bipolar disorder</td>\n",
              "      <td>Initial benefits were comparable to the brand ...</td>\n",
              "      <td>Depakene has a very thin coating, which caused...</td>\n",
              "      <td>Depakote was prescribed to me by a Kaiser psyc...</td>\n",
              "    </tr>\n",
              "    <tr>\n",
              "      <th>3</th>\n",
              "      <td>969</td>\n",
              "      <td>sarafem</td>\n",
              "      <td>10</td>\n",
              "      <td>Highly Effective</td>\n",
              "      <td>No Side Effects</td>\n",
              "      <td>bi-polar / anxiety</td>\n",
              "      <td>It controlls my mood swings. It helps me think...</td>\n",
              "      <td>I didnt really notice any side effects.</td>\n",
              "      <td>This drug may not be for everyone but its wond...</td>\n",
              "    </tr>\n",
              "    <tr>\n",
              "      <th>4</th>\n",
              "      <td>696</td>\n",
              "      <td>accutane</td>\n",
              "      <td>10</td>\n",
              "      <td>Highly Effective</td>\n",
              "      <td>Mild Side Effects</td>\n",
              "      <td>nodular acne</td>\n",
              "      <td>Within one week of treatment superficial acne ...</td>\n",
              "      <td>Side effects included moderate to severe dry s...</td>\n",
              "      <td>Drug was taken in gelatin tablet at 0.5 mg per...</td>\n",
              "    </tr>\n",
              "  </tbody>\n",
              "</table>\n",
              "</div>\n",
              "    <div class=\"colab-df-buttons\">\n",
              "\n",
              "  <div class=\"colab-df-container\">\n",
              "    <button class=\"colab-df-convert\" onclick=\"convertToInteractive('df-bf027209-21ea-47b0-9b0f-4ea21bb70067')\"\n",
              "            title=\"Convert this dataframe to an interactive table.\"\n",
              "            style=\"display:none;\">\n",
              "\n",
              "  <svg xmlns=\"http://www.w3.org/2000/svg\" height=\"24px\" viewBox=\"0 -960 960 960\">\n",
              "    <path d=\"M120-120v-720h720v720H120Zm60-500h600v-160H180v160Zm220 220h160v-160H400v160Zm0 220h160v-160H400v160ZM180-400h160v-160H180v160Zm440 0h160v-160H620v160ZM180-180h160v-160H180v160Zm440 0h160v-160H620v160Z\"/>\n",
              "  </svg>\n",
              "    </button>\n",
              "\n",
              "  <style>\n",
              "    .colab-df-container {\n",
              "      display:flex;\n",
              "      gap: 12px;\n",
              "    }\n",
              "\n",
              "    .colab-df-convert {\n",
              "      background-color: #E8F0FE;\n",
              "      border: none;\n",
              "      border-radius: 50%;\n",
              "      cursor: pointer;\n",
              "      display: none;\n",
              "      fill: #1967D2;\n",
              "      height: 32px;\n",
              "      padding: 0 0 0 0;\n",
              "      width: 32px;\n",
              "    }\n",
              "\n",
              "    .colab-df-convert:hover {\n",
              "      background-color: #E2EBFA;\n",
              "      box-shadow: 0px 1px 2px rgba(60, 64, 67, 0.3), 0px 1px 3px 1px rgba(60, 64, 67, 0.15);\n",
              "      fill: #174EA6;\n",
              "    }\n",
              "\n",
              "    .colab-df-buttons div {\n",
              "      margin-bottom: 4px;\n",
              "    }\n",
              "\n",
              "    [theme=dark] .colab-df-convert {\n",
              "      background-color: #3B4455;\n",
              "      fill: #D2E3FC;\n",
              "    }\n",
              "\n",
              "    [theme=dark] .colab-df-convert:hover {\n",
              "      background-color: #434B5C;\n",
              "      box-shadow: 0px 1px 3px 1px rgba(0, 0, 0, 0.15);\n",
              "      filter: drop-shadow(0px 1px 2px rgba(0, 0, 0, 0.3));\n",
              "      fill: #FFFFFF;\n",
              "    }\n",
              "  </style>\n",
              "\n",
              "    <script>\n",
              "      const buttonEl =\n",
              "        document.querySelector('#df-bf027209-21ea-47b0-9b0f-4ea21bb70067 button.colab-df-convert');\n",
              "      buttonEl.style.display =\n",
              "        google.colab.kernel.accessAllowed ? 'block' : 'none';\n",
              "\n",
              "      async function convertToInteractive(key) {\n",
              "        const element = document.querySelector('#df-bf027209-21ea-47b0-9b0f-4ea21bb70067');\n",
              "        const dataTable =\n",
              "          await google.colab.kernel.invokeFunction('convertToInteractive',\n",
              "                                                    [key], {});\n",
              "        if (!dataTable) return;\n",
              "\n",
              "        const docLinkHtml = 'Like what you see? Visit the ' +\n",
              "          '<a target=\"_blank\" href=https://colab.research.google.com/notebooks/data_table.ipynb>data table notebook</a>'\n",
              "          + ' to learn more about interactive tables.';\n",
              "        element.innerHTML = '';\n",
              "        dataTable['output_type'] = 'display_data';\n",
              "        await google.colab.output.renderOutput(dataTable, element);\n",
              "        const docLink = document.createElement('div');\n",
              "        docLink.innerHTML = docLinkHtml;\n",
              "        element.appendChild(docLink);\n",
              "      }\n",
              "    </script>\n",
              "  </div>\n",
              "\n",
              "\n",
              "    <div id=\"df-b1eb92b4-76e4-47bb-9050-00906cb24c07\">\n",
              "      <button class=\"colab-df-quickchart\" onclick=\"quickchart('df-b1eb92b4-76e4-47bb-9050-00906cb24c07')\"\n",
              "                title=\"Suggest charts\"\n",
              "                style=\"display:none;\">\n",
              "\n",
              "<svg xmlns=\"http://www.w3.org/2000/svg\" height=\"24px\"viewBox=\"0 0 24 24\"\n",
              "     width=\"24px\">\n",
              "    <g>\n",
              "        <path d=\"M19 3H5c-1.1 0-2 .9-2 2v14c0 1.1.9 2 2 2h14c1.1 0 2-.9 2-2V5c0-1.1-.9-2-2-2zM9 17H7v-7h2v7zm4 0h-2V7h2v10zm4 0h-2v-4h2v4z\"/>\n",
              "    </g>\n",
              "</svg>\n",
              "      </button>\n",
              "\n",
              "<style>\n",
              "  .colab-df-quickchart {\n",
              "      --bg-color: #E8F0FE;\n",
              "      --fill-color: #1967D2;\n",
              "      --hover-bg-color: #E2EBFA;\n",
              "      --hover-fill-color: #174EA6;\n",
              "      --disabled-fill-color: #AAA;\n",
              "      --disabled-bg-color: #DDD;\n",
              "  }\n",
              "\n",
              "  [theme=dark] .colab-df-quickchart {\n",
              "      --bg-color: #3B4455;\n",
              "      --fill-color: #D2E3FC;\n",
              "      --hover-bg-color: #434B5C;\n",
              "      --hover-fill-color: #FFFFFF;\n",
              "      --disabled-bg-color: #3B4455;\n",
              "      --disabled-fill-color: #666;\n",
              "  }\n",
              "\n",
              "  .colab-df-quickchart {\n",
              "    background-color: var(--bg-color);\n",
              "    border: none;\n",
              "    border-radius: 50%;\n",
              "    cursor: pointer;\n",
              "    display: none;\n",
              "    fill: var(--fill-color);\n",
              "    height: 32px;\n",
              "    padding: 0;\n",
              "    width: 32px;\n",
              "  }\n",
              "\n",
              "  .colab-df-quickchart:hover {\n",
              "    background-color: var(--hover-bg-color);\n",
              "    box-shadow: 0 1px 2px rgba(60, 64, 67, 0.3), 0 1px 3px 1px rgba(60, 64, 67, 0.15);\n",
              "    fill: var(--button-hover-fill-color);\n",
              "  }\n",
              "\n",
              "  .colab-df-quickchart-complete:disabled,\n",
              "  .colab-df-quickchart-complete:disabled:hover {\n",
              "    background-color: var(--disabled-bg-color);\n",
              "    fill: var(--disabled-fill-color);\n",
              "    box-shadow: none;\n",
              "  }\n",
              "\n",
              "  .colab-df-spinner {\n",
              "    border: 2px solid var(--fill-color);\n",
              "    border-color: transparent;\n",
              "    border-bottom-color: var(--fill-color);\n",
              "    animation:\n",
              "      spin 1s steps(1) infinite;\n",
              "  }\n",
              "\n",
              "  @keyframes spin {\n",
              "    0% {\n",
              "      border-color: transparent;\n",
              "      border-bottom-color: var(--fill-color);\n",
              "      border-left-color: var(--fill-color);\n",
              "    }\n",
              "    20% {\n",
              "      border-color: transparent;\n",
              "      border-left-color: var(--fill-color);\n",
              "      border-top-color: var(--fill-color);\n",
              "    }\n",
              "    30% {\n",
              "      border-color: transparent;\n",
              "      border-left-color: var(--fill-color);\n",
              "      border-top-color: var(--fill-color);\n",
              "      border-right-color: var(--fill-color);\n",
              "    }\n",
              "    40% {\n",
              "      border-color: transparent;\n",
              "      border-right-color: var(--fill-color);\n",
              "      border-top-color: var(--fill-color);\n",
              "    }\n",
              "    60% {\n",
              "      border-color: transparent;\n",
              "      border-right-color: var(--fill-color);\n",
              "    }\n",
              "    80% {\n",
              "      border-color: transparent;\n",
              "      border-right-color: var(--fill-color);\n",
              "      border-bottom-color: var(--fill-color);\n",
              "    }\n",
              "    90% {\n",
              "      border-color: transparent;\n",
              "      border-bottom-color: var(--fill-color);\n",
              "    }\n",
              "  }\n",
              "</style>\n",
              "\n",
              "      <script>\n",
              "        async function quickchart(key) {\n",
              "          const quickchartButtonEl =\n",
              "            document.querySelector('#' + key + ' button');\n",
              "          quickchartButtonEl.disabled = true;  // To prevent multiple clicks.\n",
              "          quickchartButtonEl.classList.add('colab-df-spinner');\n",
              "          try {\n",
              "            const charts = await google.colab.kernel.invokeFunction(\n",
              "                'suggestCharts', [key], {});\n",
              "          } catch (error) {\n",
              "            console.error('Error during call to suggestCharts:', error);\n",
              "          }\n",
              "          quickchartButtonEl.classList.remove('colab-df-spinner');\n",
              "          quickchartButtonEl.classList.add('colab-df-quickchart-complete');\n",
              "        }\n",
              "        (() => {\n",
              "          let quickchartButtonEl =\n",
              "            document.querySelector('#df-b1eb92b4-76e4-47bb-9050-00906cb24c07 button');\n",
              "          quickchartButtonEl.style.display =\n",
              "            google.colab.kernel.accessAllowed ? 'block' : 'none';\n",
              "        })();\n",
              "      </script>\n",
              "    </div>\n",
              "\n",
              "    </div>\n",
              "  </div>\n"
            ],
            "application/vnd.google.colaboratory.intrinsic+json": {
              "type": "dataframe",
              "variable_name": "df_test",
              "summary": "{\n  \"name\": \"df_test\",\n  \"rows\": 1036,\n  \"fields\": [\n    {\n      \"column\": \"Unnamed: 0\",\n      \"properties\": {\n        \"dtype\": \"number\",\n        \"std\": 1243,\n        \"min\": 1,\n        \"max\": 4157,\n        \"num_unique_values\": 1036,\n        \"samples\": [\n          2499,\n          1783,\n          688\n        ],\n        \"semantic_type\": \"\",\n        \"description\": \"\"\n      }\n    },\n    {\n      \"column\": \"urlDrugName\",\n      \"properties\": {\n        \"dtype\": \"category\",\n        \"num_unique_values\": 314,\n        \"samples\": [\n          \"adipex-p\",\n          \"prempro\",\n          \"optivar\"\n        ],\n        \"semantic_type\": \"\",\n        \"description\": \"\"\n      }\n    },\n    {\n      \"column\": \"rating\",\n      \"properties\": {\n        \"dtype\": \"number\",\n        \"std\": 2,\n        \"min\": 1,\n        \"max\": 10,\n        \"num_unique_values\": 10,\n        \"samples\": [\n          5,\n          4,\n          1\n        ],\n        \"semantic_type\": \"\",\n        \"description\": \"\"\n      }\n    },\n    {\n      \"column\": \"effectiveness\",\n      \"properties\": {\n        \"dtype\": \"category\",\n        \"num_unique_values\": 5,\n        \"samples\": [\n          \"Highly Effective\",\n          \"Ineffective\",\n          \"Moderately Effective\"\n        ],\n        \"semantic_type\": \"\",\n        \"description\": \"\"\n      }\n    },\n    {\n      \"column\": \"sideEffects\",\n      \"properties\": {\n        \"dtype\": \"category\",\n        \"num_unique_values\": 5,\n        \"samples\": [\n          \"Severe Side Effects\",\n          \"Extremely Severe Side Effects\",\n          \"No Side Effects\"\n        ],\n        \"semantic_type\": \"\",\n        \"description\": \"\"\n      }\n    },\n    {\n      \"column\": \"condition\",\n      \"properties\": {\n        \"dtype\": \"string\",\n        \"num_unique_values\": 566,\n        \"samples\": [\n          \"substitute for a barbiturate\",\n          \"nausea, headaches, dizziness\",\n          \"pregnancy prevention\"\n        ],\n        \"semantic_type\": \"\",\n        \"description\": \"\"\n      }\n    },\n    {\n      \"column\": \"benefitsReview\",\n      \"properties\": {\n        \"dtype\": \"string\",\n        \"num_unique_values\": 1022,\n        \"samples\": [\n          \"Strattera seemed to give me some energy and focus for a few hours.  However, about 5-6 hours after taking the pill, I get sleepy and groggy.  I have never taken a stimulant (newly diagnosed ADD), but this sounds familiar to the \\\"crash\\\" I hear people talking about.  So far the sleepiness and fatigue are out-weighing the benefits of this drug for me.\",\n          \"When I have flareups of pain, taking the meloxicam with the cyclobenzoprine and a good nights sleep would leave me pain free in the morning.\",\n          \"I had to stop the medicine because of the side effects and he got sicker (I know you aren't supposed to stop antibiotics for this exact reason).  He ended up on another antibiotic that worked well.\"\n        ],\n        \"semantic_type\": \"\",\n        \"description\": \"\"\n      }\n    },\n    {\n      \"column\": \"sideEffectsReview\",\n      \"properties\": {\n        \"dtype\": \"string\",\n        \"num_unique_values\": 967,\n        \"samples\": [\n          \"Suicidal thoughts (calm idea of jumping off 14th floor)\",\n          \"I didn't notice any side effects.\",\n          \"There were really no side effects other than when one dose was missed, I became very dizzy.\"\n        ],\n        \"semantic_type\": \"\",\n        \"description\": \"\"\n      }\n    },\n    {\n      \"column\": \"commentsReview\",\n      \"properties\": {\n        \"dtype\": \"string\",\n        \"num_unique_values\": 1030,\n        \"samples\": [\n          \"I'm only on my second day and third dose, I'm taking this with 3 days, 2 times a day, 4 MG dose of Dexamethasone and I had a large shot of Rocephin\",\n          \"I started with the 20mg dosage and it seemed to be working pretty well until about a month in when I had a bad anxiety attack.  After seeing the doctor, she upped me to 40mg.  After one dosage of 40mg, I nearly passed out twice and started profusely sweating.  My hearing also went all funny.  The doctor advised me to drop back down to 20mg and then try to go back up to the 40mg.  Emotionally, I felt better after the 40mg, even after nearly fainting, but the side effects were very bad.\",\n          \"simply remember to take medication\"\n        ],\n        \"semantic_type\": \"\",\n        \"description\": \"\"\n      }\n    }\n  ]\n}"
            }
          },
          "metadata": {},
          "execution_count": 10
        }
      ]
    },
    {
      "cell_type": "markdown",
      "source": [
        "# 2. Label Encoding\n"
      ],
      "metadata": {
        "id": "-byYodnkdfdx"
      }
    },
    {
      "cell_type": "code",
      "source": [
        "le_rating = LabelEncoder()\n",
        "y_train_rating = le_rating.fit_transform(y_train_rating)\n",
        "y_test_rating = le_rating.transform(y_test_rating)\n",
        "\n",
        "le_effectiveness = LabelEncoder()\n",
        "y_train_effectiveness = le_effectiveness.fit_transform(y_train_effectiveness)\n",
        "y_test_effectiveness = le_effectiveness.transform(y_test_effectiveness)"
      ],
      "metadata": {
        "id": "MBz0-8oZeIkP"
      },
      "execution_count": 11,
      "outputs": []
    },
    {
      "cell_type": "markdown",
      "source": [
        "# 3. Tokenize and convert our data to sequences (-> RNNs work better with sequences) and pad them"
      ],
      "metadata": {
        "id": "ipEAYEP8erro"
      }
    },
    {
      "cell_type": "code",
      "source": [
        "tokenizer = Tokenizer()\n",
        "tokenizer.fit_on_texts(X_train)\n",
        "X_train_seq = tokenizer.texts_to_sequences(X_train)\n",
        "X_test_seq = tokenizer.texts_to_sequences(X_test)\n",
        "X_train_pad = pad_sequences(X_train_seq, maxlen=100)\n",
        "X_test_pad = pad_sequences(X_test_seq, maxlen=100)\n",
        "\n",
        "vocab_size = len(tokenizer.word_index) + 1"
      ],
      "metadata": {
        "id": "akWUvkWKfFHv"
      },
      "execution_count": 12,
      "outputs": []
    },
    {
      "cell_type": "markdown",
      "source": [
        "# 4. Building first simple RNN"
      ],
      "metadata": {
        "id": "ctpENFMvfQPN"
      }
    },
    {
      "cell_type": "code",
      "source": [
        "#https://stackoverflow.com/questions/78911076/why-does-my-simplernn-model-in-sequential-api-show-for-output-shape-and-zero\n",
        "#https://medium.com/@pmaruthiprasad16/end-to-end-deep-learning-project-using-simple-rnn-8b0b048ce975'\n",
        "\n",
        "def create_rnn_model(in_leng, vocab_size, num_classes, embedding_dim=100, rnn_units=64):\n",
        "    \"\"\"\n",
        "    Shorter SimpleRNN model, no pooling.\n",
        "    - Bidirectional SimpleRNN with return_sequences=False.\n",
        "    - Dropout and recurrent_dropout in SimpleRNN.\n",
        "    - Simpler Dense head.\n",
        "    \"\"\"\n",
        "    model = Sequential([\n",
        "        Embedding(input_dim=vocab_size,\n",
        "                  output_dim=embedding_dim,\n",
        "                  input_length=in_leng,\n",
        "                  mask_zero=True),  # Important to ignore padding\n",
        "\n",
        "        Bidirectional(SimpleRNN(rnn_units,\n",
        "                                # return_sequences=False by default if it's the last RNN layer\n",
        "                                # before a Dense layer that doesn't expect sequences.\n",
        "                                # Explicitly: return_sequences=False,\n",
        "                                dropout=0.2,\n",
        "                                recurrent_dropout=0.2)),\n",
        "\n",
        "        Dense(64, activation='relu'),\n",
        "        # BatchNormalization(), # Can be optional for very short models\n",
        "        Dropout(0.4),\n",
        "\n",
        "        Dense(num_classes, activation='softmax' if num_classes > 1 else 'sigmoid')\n",
        "    ])\n",
        "\n",
        "    model.compile(\n",
        "        optimizer=Adam(learning_rate=0.001),\n",
        "        loss='sparse_categorical_crossentropy' if num_classes > 1 else 'binary_crossentropy',\n",
        "        metrics=['accuracy']\n",
        "    )\n",
        "    return model"
      ],
      "metadata": {
        "id": "6PB-_65gfUYj"
      },
      "execution_count": 13,
      "outputs": []
    },
    {
      "cell_type": "markdown",
      "source": [
        "# 5. GRU Model"
      ],
      "metadata": {
        "id": "XlU3Wiy8foKt"
      }
    },
    {
      "cell_type": "code",
      "source": [
        "def create_gru_model(in_leng, vocab_size, num_classes, embedding_dim=100, gru_units_1=64, gru_units_2=32):\n",
        "    \"\"\"\n",
        "    Shorter GRU model, no pooling.\n",
        "    - Stacked Bidirectional GRU layers, last one with return_sequences=False.\n",
        "    - Dropout and recurrent_dropout in GRU layers.\n",
        "    - Simpler Dense head.\n",
        "    \"\"\"\n",
        "    model = Sequential([\n",
        "        Embedding(input_dim=vocab_size,\n",
        "                  output_dim=embedding_dim,\n",
        "                  input_length=in_leng,\n",
        "                  mask_zero=True),\n",
        "\n",
        "        Bidirectional(GRU(gru_units_1,\n",
        "                          return_sequences=True,  # True because another GRU layer follows\n",
        "                          dropout=0.3,\n",
        "                          recurrent_dropout=0.3)),\n",
        "\n",
        "        Bidirectional(GRU(gru_units_2,\n",
        "                          # return_sequences=False for the last RNN before Dense head\n",
        "                          dropout=0.3,\n",
        "                          recurrent_dropout=0.3)),\n",
        "\n",
        "        Dense(64, activation='relu'),\n",
        "        # BatchNormalization(),\n",
        "        Dropout(0.4),\n",
        "\n",
        "        Dense(num_classes, activation='softmax' if num_classes > 1 else 'sigmoid')\n",
        "    ])\n",
        "\n",
        "    model.compile(\n",
        "        optimizer=Adam(learning_rate=0.001),\n",
        "        loss='sparse_categorical_crossentropy' if num_classes > 1 else 'binary_crossentropy',\n",
        "        metrics=['accuracy']\n",
        "    )\n",
        "    return model"
      ],
      "metadata": {
        "id": "7U_hYlJJfzk8"
      },
      "execution_count": 14,
      "outputs": []
    },
    {
      "cell_type": "markdown",
      "source": [
        "# 6. LSTM Model"
      ],
      "metadata": {
        "id": "fx7-W-xIf4hC"
      }
    },
    {
      "cell_type": "code",
      "source": [
        "def create_lstm_model(in_leng, vocab_size, num_classes, embedding_dim=100, lstm_units_1=64, lstm_units_2=32):\n",
        "    \"\"\"\n",
        "    Shorter LSTM model, no pooling.\n",
        "    - Stacked Bidirectional LSTM layers, last one with return_sequences=False.\n",
        "    - Dropout and recurrent_dropout in LSTM layers.\n",
        "    - Simpler Dense head.\n",
        "    \"\"\"\n",
        "    model = Sequential([\n",
        "        Embedding(input_dim=vocab_size,\n",
        "                  output_dim=embedding_dim,\n",
        "                  input_length=in_leng,\n",
        "                  mask_zero=True),\n",
        "\n",
        "        Bidirectional(LSTM(lstm_units_1,\n",
        "                           return_sequences=True, # True because another LSTM layer follows\n",
        "                           dropout=0.3,\n",
        "                           recurrent_dropout=0.3)),\n",
        "\n",
        "        Bidirectional(LSTM(lstm_units_2,\n",
        "                           # return_sequences=False for the last RNN before Dense head\n",
        "                           dropout=0.3,\n",
        "                           recurrent_dropout=0.3)),\n",
        "\n",
        "        Dense(64, activation='relu'),\n",
        "        # BatchNormalization(),\n",
        "        Dropout(0.4),\n",
        "\n",
        "        Dense(num_classes, activation='softmax' if num_classes > 1 else 'sigmoid')\n",
        "    ])\n",
        "\n",
        "    model.compile(\n",
        "        optimizer=Adam(learning_rate=0.001),\n",
        "        loss='sparse_categorical_crossentropy' if num_classes > 1 else 'binary_crossentropy',\n",
        "        metrics=['accuracy']\n",
        "    )\n",
        "    return model"
      ],
      "metadata": {
        "id": "lwRRBDzqf-EA"
      },
      "execution_count": 15,
      "outputs": []
    },
    {
      "cell_type": "markdown",
      "source": [
        "# 7. Train all models"
      ],
      "metadata": {
        "id": "OGmzWqLFgHq0"
      }
    },
    {
      "cell_type": "code",
      "source": [
        "models = {\n",
        "    'rnn_rating': create_rnn_model(100, vocab_size, len(le_rating.classes_)),\n",
        "    'gru_rating': create_gru_model(100, vocab_size, len(le_rating.classes_)),\n",
        "    'lstm_rating': create_lstm_model(100, vocab_size, len(le_rating.classes_)),\n",
        "    'rnn_effectiveness': create_rnn_model(100, vocab_size, len(le_effectiveness.classes_)),\n",
        "    'gru_effectiveness': create_gru_model(100, vocab_size, len(le_effectiveness.classes_)),\n",
        "    'lstm_effectiveness': create_lstm_model(100, vocab_size, len(le_effectiveness.classes_))\n",
        "}\n",
        "\n",
        "\n",
        "\n",
        "history = {}\n",
        "for rnn_mod, model in models.items():\n",
        "    if 'rating' in rnn_mod:\n",
        "        history[rnn_mod] = model.fit(X_train_pad, y_train_rating, epochs=3, validation_data=(X_test_pad, y_test_rating))\n",
        "    else:\n",
        "        history[rnn_mod] = model.fit(X_train_pad, y_train_effectiveness, epochs=3, validation_data=(X_test_pad, y_test_effectiveness))\n",
        "\n"
      ],
      "metadata": {
        "colab": {
          "base_uri": "https://localhost:8080/"
        },
        "id": "Ro5TAFbhgLVN",
        "outputId": "a915b4e4-43bd-4d4a-bad4-c1b075cf48af"
      },
      "execution_count": 16,
      "outputs": [
        {
          "output_type": "stream",
          "name": "stderr",
          "text": [
            "/usr/local/lib/python3.11/dist-packages/keras/src/layers/core/embedding.py:90: UserWarning: Argument `input_length` is deprecated. Just remove it.\n",
            "  warnings.warn(\n"
          ]
        },
        {
          "output_type": "stream",
          "name": "stdout",
          "text": [
            "Epoch 1/3\n",
            "\u001b[1m98/98\u001b[0m \u001b[32m━━━━━━━━━━━━━━━━━━━━\u001b[0m\u001b[37m\u001b[0m \u001b[1m17s\u001b[0m 113ms/step - accuracy: 0.1263 - loss: 2.3385 - val_accuracy: 0.2191 - val_loss: 2.1588\n",
            "Epoch 2/3\n",
            "\u001b[1m98/98\u001b[0m \u001b[32m━━━━━━━━━━━━━━━━━━━━\u001b[0m\u001b[37m\u001b[0m \u001b[1m20s\u001b[0m 106ms/step - accuracy: 0.2232 - loss: 2.1493 - val_accuracy: 0.1824 - val_loss: 2.1690\n",
            "Epoch 3/3\n",
            "\u001b[1m98/98\u001b[0m \u001b[32m━━━━━━━━━━━━━━━━━━━━\u001b[0m\u001b[37m\u001b[0m \u001b[1m21s\u001b[0m 106ms/step - accuracy: 0.2169 - loss: 2.1384 - val_accuracy: 0.2181 - val_loss: 2.1397\n",
            "Epoch 1/3\n",
            "\u001b[1m98/98\u001b[0m \u001b[32m━━━━━━━━━━━━━━━━━━━━\u001b[0m\u001b[37m\u001b[0m \u001b[1m72s\u001b[0m 567ms/step - accuracy: 0.2090 - loss: 2.1989 - val_accuracy: 0.2181 - val_loss: 2.1220\n",
            "Epoch 2/3\n",
            "\u001b[1m98/98\u001b[0m \u001b[32m━━━━━━━━━━━━━━━━━━━━\u001b[0m\u001b[37m\u001b[0m \u001b[1m82s\u001b[0m 568ms/step - accuracy: 0.2440 - loss: 2.0584 - val_accuracy: 0.2297 - val_loss: 2.1114\n",
            "Epoch 3/3\n",
            "\u001b[1m98/98\u001b[0m \u001b[32m━━━━━━━━━━━━━━━━━━━━\u001b[0m\u001b[37m\u001b[0m \u001b[1m77s\u001b[0m 514ms/step - accuracy: 0.2641 - loss: 1.9054 - val_accuracy: 0.2230 - val_loss: 2.1293\n",
            "Epoch 1/3\n",
            "\u001b[1m98/98\u001b[0m \u001b[32m━━━━━━━━━━━━━━━━━━━━\u001b[0m\u001b[37m\u001b[0m \u001b[1m84s\u001b[0m 623ms/step - accuracy: 0.2015 - loss: 2.2213 - val_accuracy: 0.2181 - val_loss: 2.1299\n",
            "Epoch 2/3\n",
            "\u001b[1m98/98\u001b[0m \u001b[32m━━━━━━━━━━━━━━━━━━━━\u001b[0m\u001b[37m\u001b[0m \u001b[1m76s\u001b[0m 565ms/step - accuracy: 0.2385 - loss: 2.0748 - val_accuracy: 0.2317 - val_loss: 2.0791\n",
            "Epoch 3/3\n",
            "\u001b[1m98/98\u001b[0m \u001b[32m━━━━━━━━━━━━━━━━━━━━\u001b[0m\u001b[37m\u001b[0m \u001b[1m82s\u001b[0m 569ms/step - accuracy: 0.2688 - loss: 1.8929 - val_accuracy: 0.2365 - val_loss: 2.1448\n",
            "Epoch 1/3\n",
            "\u001b[1m98/98\u001b[0m \u001b[32m━━━━━━━━━━━━━━━━━━━━\u001b[0m\u001b[37m\u001b[0m \u001b[1m17s\u001b[0m 116ms/step - accuracy: 0.3129 - loss: 1.5900 - val_accuracy: 0.3958 - val_loss: 1.4263\n",
            "Epoch 2/3\n",
            "\u001b[1m98/98\u001b[0m \u001b[32m━━━━━━━━━━━━━━━━━━━━\u001b[0m\u001b[37m\u001b[0m \u001b[1m20s\u001b[0m 108ms/step - accuracy: 0.3910 - loss: 1.4247 - val_accuracy: 0.3861 - val_loss: 1.4186\n",
            "Epoch 3/3\n",
            "\u001b[1m98/98\u001b[0m \u001b[32m━━━━━━━━━━━━━━━━━━━━\u001b[0m\u001b[37m\u001b[0m \u001b[1m20s\u001b[0m 105ms/step - accuracy: 0.4170 - loss: 1.4107 - val_accuracy: 0.3967 - val_loss: 1.4130\n",
            "Epoch 1/3\n",
            "\u001b[1m98/98\u001b[0m \u001b[32m━━━━━━━━━━━━━━━━━━━━\u001b[0m\u001b[37m\u001b[0m \u001b[1m72s\u001b[0m 548ms/step - accuracy: 0.4230 - loss: 1.4545 - val_accuracy: 0.3967 - val_loss: 1.3936\n",
            "Epoch 2/3\n",
            "\u001b[1m98/98\u001b[0m \u001b[32m━━━━━━━━━━━━━━━━━━━━\u001b[0m\u001b[37m\u001b[0m \u001b[1m80s\u001b[0m 533ms/step - accuracy: 0.4385 - loss: 1.3236 - val_accuracy: 0.3996 - val_loss: 1.3812\n",
            "Epoch 3/3\n",
            "\u001b[1m98/98\u001b[0m \u001b[32m━━━━━━━━━━━━━━━━━━━━\u001b[0m\u001b[37m\u001b[0m \u001b[1m52s\u001b[0m 532ms/step - accuracy: 0.5490 - loss: 1.0857 - val_accuracy: 0.4015 - val_loss: 1.5692\n",
            "Epoch 1/3\n",
            "\u001b[1m98/98\u001b[0m \u001b[32m━━━━━━━━━━━━━━━━━━━━\u001b[0m\u001b[37m\u001b[0m \u001b[1m80s\u001b[0m 596ms/step - accuracy: 0.4012 - loss: 1.4726 - val_accuracy: 0.3967 - val_loss: 1.3923\n",
            "Epoch 2/3\n",
            "\u001b[1m98/98\u001b[0m \u001b[32m━━━━━━━━━━━━━━━━━━━━\u001b[0m\u001b[37m\u001b[0m \u001b[1m82s\u001b[0m 594ms/step - accuracy: 0.4450 - loss: 1.3113 - val_accuracy: 0.4189 - val_loss: 1.3719\n",
            "Epoch 3/3\n",
            "\u001b[1m98/98\u001b[0m \u001b[32m━━━━━━━━━━━━━━━━━━━━\u001b[0m\u001b[37m\u001b[0m \u001b[1m81s\u001b[0m 586ms/step - accuracy: 0.4864 - loss: 1.1529 - val_accuracy: 0.3649 - val_loss: 1.4656\n"
          ]
        }
      ]
    },
    {
      "cell_type": "markdown",
      "source": [
        "# 8. Create Function to evaluate the models"
      ],
      "metadata": {
        "id": "YYC9xxCpg1yW"
      }
    },
    {
      "cell_type": "code",
      "source": [
        "def evaluate_model(model, X_test, y_test):\n",
        "    y_pred = model.predict(X_test)\n",
        "\n",
        "    if y_pred.shape[1] > 1:\n",
        "        # Multi-class classification\n",
        "        y_pred_classes = y_pred.argmax(axis=1)\n",
        "        roc_auc = roc_auc_score(y_test, y_pred, multi_class='ovo')\n",
        "    else:\n",
        "        # Binary classification\n",
        "        y_pred_classes = (y_pred > 0.5).astype(\"int32\")\n",
        "        roc_auc = roc_auc_score(y_test, y_pred)\n",
        "\n",
        "    accuracy = accuracy_score(y_test, y_pred_classes)\n",
        "    balanced_accuracy = balanced_accuracy_score(y_test, y_pred_classes)\n",
        "    f1 = f1_score(y_test, y_pred_classes, average='weighted')\n",
        "    precision = precision_score(y_test, y_pred_classes, average='weighted')\n",
        "    recall = recall_score(y_test, y_pred_classes, average='weighted')\n",
        "    cm = confusion_matrix(y_test, y_pred_classes)\n",
        "\n",
        "    return accuracy, balanced_accuracy, f1, roc_auc, precision, recall, cm"
      ],
      "metadata": {
        "id": "Ijkzo_Qqg5SF"
      },
      "execution_count": 28,
      "outputs": []
    },
    {
      "cell_type": "markdown",
      "source": [
        "# 9. Create Function to plot learning curves"
      ],
      "metadata": {
        "id": "WAq0UbhjhJV5"
      }
    },
    {
      "cell_type": "code",
      "source": [
        "def plot_learning_curves(history_object, rnn_mod):\n",
        "    plt.figure(figsize=(12, 4))\n",
        "\n",
        "    plt.subplot(1, 2, 1)\n",
        "    plt.plot(history_object.history['loss'], label='train loss', color='blue')\n",
        "    plt.plot(history_object.history['val_loss'], label='val loss', color='red')\n",
        "    plt.title(f'{rnn_mod} Loss')\n",
        "    plt.xlabel('Epochs')\n",
        "    plt.ylabel('Loss')\n",
        "    plt.legend()\n",
        "\n",
        "    plt.subplot(1, 2, 2)\n",
        "    plt.plot(history_object.history['accuracy'], label='train accuracy', color='blue')\n",
        "    plt.plot(history_object.history['val_accuracy'], label='val accuracy', color='red')\n",
        "    plt.title(f'{rnn_mod} Accuracy')\n",
        "    plt.xlabel('Epochs')\n",
        "    plt.ylabel('Accuracy')\n",
        "    plt.legend()\n",
        "\n",
        "    plt.show()"
      ],
      "metadata": {
        "id": "RxslOEBghOiu"
      },
      "execution_count": 29,
      "outputs": []
    },
    {
      "cell_type": "markdown",
      "source": [
        "# 10. start evaluating process"
      ],
      "metadata": {
        "id": "5YLF5tqFha6r"
      }
    },
    {
      "cell_type": "code",
      "source": [
        "results = {}\n",
        "for rnn_mod, model in models.items():\n",
        "    if 'rating' in rnn_mod:\n",
        "        results[rnn_mod] = evaluate_model(model, X_test_pad, y_test_rating)\n",
        "    else:\n",
        "        results[rnn_mod] = evaluate_model(model, X_test_pad, y_test_effectiveness)\n",
        "\n",
        "    plot_learning_curves(history[rnn_mod], rnn_mod)\n",
        "    metrics = results[rnn_mod]\n",
        "    print(f'{rnn_mod} Metrics:')\n",
        "    print(f'Accuracy: {metrics[0]}')\n",
        "    print(f'Balanced Accuracy: {metrics[1]}')\n",
        "    print(f'F1 Score: {metrics[2]}')\n",
        "    print(f'ROC AUC: {metrics[3]}')\n",
        "    print(f'Precision: {metrics[4]}')\n",
        "    print(f'Recall: {metrics[5]}')\n",
        "    print(f'Confusion Matrix:\\n{metrics[6]}')"
      ],
      "metadata": {
        "colab": {
          "base_uri": "https://localhost:8080/",
          "height": 1000
        },
        "id": "fSfPzXEbhqDw",
        "outputId": "d7cbd25d-9232-45f6-cdbd-234c04c5d7a6"
      },
      "execution_count": 31,
      "outputs": [
        {
          "output_type": "stream",
          "name": "stdout",
          "text": [
            "\u001b[1m33/33\u001b[0m \u001b[32m━━━━━━━━━━━━━━━━━━━━\u001b[0m\u001b[37m\u001b[0m \u001b[1m2s\u001b[0m 51ms/step\n"
          ]
        },
        {
          "output_type": "display_data",
          "data": {
            "text/plain": [
              "<Figure size 1200x400 with 2 Axes>"
            ],
            "image/png": "[encoded data removed]"
          },
          "metadata": {}
        },
        {
          "output_type": "stream",
          "name": "stdout",
          "text": [
            "rnn_rating Metrics:\n",
            "Accuracy: 0.21814671814671815\n",
            "Balanced Accuracy: 0.1\n",
            "F1 Score: 0.07813178811594025\n",
            "ROC AUC: 0.5090902059782901\n",
            "Precision: 0.04758799063818369\n",
            "Recall: 0.21814671814671815\n",
            "Confusion Matrix:\n",
            "[[  0   0   0   0   0   0   0   0   0 115]\n",
            " [  0   0   0   0   0   0   0   0   0  33]\n",
            " [  0   0   0   0   0   0   0   0   0  49]\n",
            " [  0   0   0   0   0   0   0   0   0  44]\n",
            " [  0   0   0   0   0   0   0   0   0  67]\n",
            " [  0   0   0   0   0   0   0   0   0  58]\n",
            " [  0   0   0   0   0   0   0   0   0 121]\n",
            " [  0   0   0   0   0   0   0   0   0 190]\n",
            " [  0   0   0   0   0   0   0   0   0 133]\n",
            " [  0   0   0   0   0   0   0   0   0 226]]\n",
            "\u001b[1m33/33\u001b[0m \u001b[32m━━━━━━━━━━━━━━━━━━━━\u001b[0m\u001b[37m\u001b[0m \u001b[1m6s\u001b[0m 170ms/step\n"
          ]
        },
        {
          "output_type": "display_data",
          "data": {
            "text/plain": [
              "<Figure size 1200x400 with 2 Axes>"
            ],
            "image/png": "[encoded data removed]"
          },
          "metadata": {}
        },
        {
          "output_type": "stream",
          "name": "stdout",
          "text": [
            "gru_rating Metrics:\n",
            "Accuracy: 0.22297297297297297\n",
            "Balanced Accuracy: 0.13141106903464897\n",
            "F1 Score: 0.1540519283230233\n",
            "ROC AUC: 0.5900361363155487\n",
            "Precision: 0.1190463306323002\n",
            "Recall: 0.22297297297297297\n",
            "Confusion Matrix:\n",
            "[[ 56   0   0   0   0   0   1  34   0  24]\n",
            " [ 15   0   0   0   0   0   0   9   0   9]\n",
            " [ 21   0   0   0   0   0   1  14   0  13]\n",
            " [ 15   0   0   0   0   0   0  17   1  11]\n",
            " [ 25   0   0   0   0   0   0  22   0  20]\n",
            " [ 23   0   0   0   0   0   0  17   2  16]\n",
            " [ 41   0   0   0   0   0   0  44   1  35]\n",
            " [ 41   0   0   0   0   0   0  63   3  83]\n",
            " [ 30   0   0   0   0   0   1  46   0  56]\n",
            " [ 44   0   0   0   0   0   0  68   2 112]]\n",
            "\u001b[1m33/33\u001b[0m \u001b[32m━━━━━━━━━━━━━━━━━━━━\u001b[0m\u001b[37m\u001b[0m \u001b[1m9s\u001b[0m 267ms/step\n"
          ]
        },
        {
          "output_type": "display_data",
          "data": {
            "text/plain": [
              "<Figure size 1200x400 with 2 Axes>"
            ],
            "image/png": "[encoded data removed]"
          },
          "metadata": {}
        },
        {
          "output_type": "stream",
          "name": "stdout",
          "text": [
            "lstm_rating Metrics:\n",
            "Accuracy: 0.23648648648648649\n",
            "Balanced Accuracy: 0.13754419955172542\n",
            "F1 Score: 0.137937986068682\n",
            "ROC AUC: 0.598843801893273\n",
            "Precision: 0.14094922484382455\n",
            "Recall: 0.23648648648648649\n",
            "Confusion Matrix:\n",
            "[[ 62   0   0   0   0   0   3   5   1  44]\n",
            " [ 20   0   0   0   0   0   0   1   1  11]\n",
            " [ 28   0   0   0   0   0   0   3   1  17]\n",
            " [ 15   0   0   0   0   0   1   3   0  25]\n",
            " [ 21   0   0   0   0   0   2   0   1  43]\n",
            " [ 21   0   0   0   0   0   2   2   1  32]\n",
            " [ 31   0   0   0   0   0   4  11   5  70]\n",
            " [ 44   0   0   0   0   0   4   6   3 133]\n",
            " [ 31   0   0   0   0   0   2   6   2  92]\n",
            " [ 38   0   0   0   0   0   1  11   5 171]]\n",
            "\u001b[1m33/33\u001b[0m \u001b[32m━━━━━━━━━━━━━━━━━━━━\u001b[0m\u001b[37m\u001b[0m \u001b[1m1s\u001b[0m 32ms/step\n"
          ]
        },
        {
          "output_type": "display_data",
          "data": {
            "text/plain": [
              "<Figure size 1200x400 with 2 Axes>"
            ],
            "image/png": "[encoded data removed]"
          },
          "metadata": {}
        },
        {
          "output_type": "stream",
          "name": "stdout",
          "text": [
            "rnn_effectiveness Metrics:\n",
            "Accuracy: 0.3967181467181467\n",
            "Balanced Accuracy: 0.2001585432854564\n",
            "F1 Score: 0.2276460191476135\n",
            "ROC AUC: 0.4915291544774128\n",
            "Precision: 0.2077882320600767\n",
            "Recall: 0.3967181467181467\n",
            "Confusion Matrix:\n",
            "[[  1 309   0   0   0]\n",
            " [  1 410   0   0   0]\n",
            " [  0  82   0   0   0]\n",
            " [  0  76   0   0   0]\n",
            " [  4 153   0   0   0]]\n",
            "\u001b[1m33/33\u001b[0m \u001b[32m━━━━━━━━━━━━━━━━━━━━\u001b[0m\u001b[37m\u001b[0m \u001b[1m6s\u001b[0m 186ms/step\n"
          ]
        },
        {
          "output_type": "display_data",
          "data": {
            "text/plain": [
              "<Figure size 1200x400 with 2 Axes>"
            ],
            "image/png": "[encoded data removed]"
          },
          "metadata": {}
        },
        {
          "output_type": "stream",
          "name": "stdout",
          "text": [
            "gru_effectiveness Metrics:\n",
            "Accuracy: 0.4015444015444015\n",
            "Balanced Accuracy: 0.23383926491313045\n",
            "F1 Score: 0.32909618829811627\n",
            "ROC AUC: 0.585964762939\n",
            "Precision: 0.34011765714827635\n",
            "Recall: 0.4015444015444015\n",
            "Confusion Matrix:\n",
            "[[ 67 231   4   0   8]\n",
            " [ 63 330   2   0  16]\n",
            " [ 14  54   5   0   9]\n",
            " [  9  54   3   0  10]\n",
            " [ 25 115   3   0  14]]\n",
            "\u001b[1m33/33\u001b[0m \u001b[32m━━━━━━━━━━━━━━━━━━━━\u001b[0m\u001b[37m\u001b[0m \u001b[1m3s\u001b[0m 87ms/step\n"
          ]
        },
        {
          "output_type": "display_data",
          "data": {
            "text/plain": [
              "<Figure size 1200x400 with 2 Axes>"
            ],
            "image/png": "[encoded data removed]"
          },
          "metadata": {}
        },
        {
          "output_type": "stream",
          "name": "stdout",
          "text": [
            "lstm_effectiveness Metrics:\n",
            "Accuracy: 0.36486486486486486\n",
            "Balanced Accuracy: 0.23749790696852946\n",
            "F1 Score: 0.3403362594057946\n",
            "ROC AUC: 0.5870518491235397\n",
            "Precision: 0.32064925307187186\n",
            "Recall: 0.36486486486486486\n",
            "Confusion Matrix:\n",
            "[[107 141  13   0  49]\n",
            " [139 226   2   0  44]\n",
            " [ 31  20   1   0  30]\n",
            " [ 35  23   3   0  15]\n",
            " [ 57  53   3   0  44]]\n"
          ]
        }
      ]
    },
    {
      "cell_type": "markdown",
      "source": [
        "# Extra: acurracy was not so good -> in order to improve -> i have decided to use BERT\n"
      ],
      "metadata": {
        "id": "fLUQrlmHMu8u"
      }
    },
    {
      "cell_type": "code",
      "execution_count": 13,
      "metadata": {
        "id": "tXmOofrAyw0y"
      },
      "outputs": [],
      "source": [
        "import pandas as pd\n",
        "import numpy as np\n",
        "import tensorflow as tf\n",
        "import matplotlib.pyplot as plt\n",
        "from transformers import TFBertModel, AutoTokenizer\n",
        "from sklearn.model_selection import train_test_split\n",
        "from sklearn.metrics import classification_report, accuracy_score, precision_score, recall_score, f1_score, confusion_matrix, ConfusionMatrixDisplay\n",
        "from tensorflow.keras.layers import Input, Dense, GlobalMaxPool1D, Dropout\n",
        "from tensorflow.keras.optimizers import Adam\n",
        "from tensorflow.keras.losses import CategoricalCrossentropy\n",
        "from tensorflow.keras.utils import to_categorical"
      ]
    },
    {
      "cell_type": "markdown",
      "source": [
        "### 1. Read Data and drop unused columns"
      ],
      "metadata": {
        "id": "euHuEdFQ1Dza"
      }
    },
    {
      "cell_type": "code",
      "source": [
        "\n",
        "# Load data\n",
        "df_train = pd.read_csv('drugLibTrain_raw.tsv', sep='\\t')\n",
        "df_test = pd.read_csv('drugLibTest_raw.tsv', sep='\\t')\n",
        "\n",
        "\n",
        "keep_cols = ['commentsReview', 'rating']\n",
        "df_train = df_train[keep_cols]\n",
        "df_test = df_test[keep_cols]\n",
        "\n"
      ],
      "metadata": {
        "id": "PLOSdhNNyyWC"
      },
      "execution_count": 14,
      "outputs": []
    },
    {
      "cell_type": "markdown",
      "source": [
        "### 2. Label classes based on rating"
      ],
      "metadata": {
        "id": "mop8h7tT1OEt"
      }
    },
    {
      "cell_type": "code",
      "source": [
        "def rating_class(df):\n",
        "    df['commentsReview'] = df['commentsReview'].astype(str).str.replace(\"&#039;\", \"'\")\n",
        "    df['rating_class'] = 0\n",
        "    df.loc[df['rating'] >= 7, 'rating_class'] = 2\n",
        "    df.loc[df['rating'] <= 4, 'rating_class'] = 1\n",
        "    return df\n",
        "\n",
        "df_train = rating_class(df_train)\n",
        "df_test = rating_class(df_test)\n",
        "\n",
        "\n",
        "print(df_test)"
      ],
      "metadata": {
        "id": "NufDVVZ1zaRi",
        "colab": {
          "base_uri": "https://localhost:8080/"
        },
        "outputId": "b573504d-241e-4059-e1e8-5c5f2688aa02"
      },
      "execution_count": 15,
      "outputs": [
        {
          "output_type": "stream",
          "name": "stdout",
          "text": [
            "                                         commentsReview  rating  rating_class\n",
            "0     Took the antibiotics for 14 days. Sinus infect...       9             2\n",
            "1     Severe mood swings between hypomania and depre...       9             2\n",
            "2     Depakote was prescribed to me by a Kaiser psyc...       4             1\n",
            "3     This drug may not be for everyone but its wond...      10             2\n",
            "4     Drug was taken in gelatin tablet at 0.5 mg per...      10             2\n",
            "...                                                 ...     ...           ...\n",
            "1031  Treatment period is 3 months/12 weeks. Dosage ...       7             2\n",
            "1032  I use the albuterol as needed because of aller...      10             2\n",
            "1033  This drug is highly teratogenic ,females must ...       8             2\n",
            "1034  Divigel is a topically applied Bio-Identical H...      10             2\n",
            "1035               Stopped using it for the time being.       8             2\n",
            "\n",
            "[1036 rows x 3 columns]\n"
          ]
        }
      ]
    },
    {
      "cell_type": "markdown",
      "source": [
        "### 3. Prepare labels and tokenize the text"
      ],
      "metadata": {
        "id": "Qk8PlqHx1C9x"
      }
    },
    {
      "cell_type": "code",
      "source": [
        "# Prepare labels - use 0,1,2 instead of -1,0,1 for easier handling\n",
        "y_train = to_categorical(df_train['rating_class'], num_classes=3)\n",
        "y_test = to_categorical(df_test['rating_class'], num_classes=3)\n",
        "\n",
        "\n",
        "# Load BERT model and tokenizer\n",
        "bert = TFBertModel.from_pretrained('bert-base-uncased')\n",
        "tokenizer = AutoTokenizer.from_pretrained('bert-base-uncased')\n",
        "\n",
        "# Tokenize text\n",
        "max_length = 70\n",
        "\n",
        "def tokenize_data(texts):\n",
        "    return tokenizer(\n",
        "        text=texts.tolist(),\n",
        "        add_special_tokens=True,\n",
        "        max_length=max_length,\n",
        "        truncation=True,\n",
        "        padding=True,\n",
        "        return_tensors='tf',\n",
        "        return_token_type_ids=False,\n",
        "        return_attention_mask=True\n",
        "    )\n",
        "\n",
        "x_train = tokenize_data(df_train['commentsReview'])\n",
        "x_test = tokenize_data(df_test['commentsReview'])\n",
        "\n",
        "\n",
        "print(x_test)\n",
        "\n"
      ],
      "metadata": {
        "id": "iRRY2mwO0B6f",
        "colab": {
          "base_uri": "https://localhost:8080/",
          "height": 648,
          "referenced_widgets": [
            "dfbea059c850483f9bbd36a16cc84034",
            "81822f6712914d8c95b2bd9244804ddf",
            "638d1095084a41348a8d7d302cac621b",
            "a27cb83234924adc9d94bb807654ebfe",
            "a6f48796fc5e4e5c900b1c7338284940",
            "50ef0c07e2824fecab7ebc090f2a1477",
            "142ad80536034b66b4d0326d89e8af34",
            "8ed55f858288469e8285597079157831",
            "0b27c985db2c432bae84b297e7d7fcf3",
            "d2acea2038ae4fc882bead03f87abcbd",
            "e26f30f31f424036af978db024c58315",
            "39399525f91d4f1f86729a217ba70a96",
            "af81d3f5494941f88187e4c22649798d",
            "29db4dc9d48947ccbb6f44fa44277c38",
            "b5a878b651664d35b2c933c54699b91d",
            "8ecac3c0dbea4e33a8bb5f42c9724c49",
            "c6c54425ddf94bd98b29a77816429685",
            "3030365bdfa84686a635c780f64ab58c",
            "a688460baea34837b2ad6633355ca8ef",
            "f4a01c61e1d2470badbfb80537ff24b0",
            "970ade3c20ae401eb08579e1ee6474f0",
            "a73028e4c01d4e4ca5cc73b31a11281c",
            "35fcfa884a654cf6a84f7cff55f7bb66",
            "ddc2f994071c40029a9f2a3fa8d2a456",
            "b3b6264b54104312b97b0fd0be5fa449",
            "d709b0e31aef4709bf7252e7629d088d",
            "393e65b45cdc4b299b9021c936fd600c",
            "188f4e06f4fd4b04a012ac078c3db422",
            "b20bde5782e24ed5917dd1cd2848dcee",
            "4eeb8910c32a465fa586686e2af7004a",
            "bb96a8c7817646fdaf7355ab3eeec159",
            "0210cc85b5dc4e1d8c700549df844399",
            "ecff882f582a4fa7bc38007230661a0c",
            "39bc4ca9e98149c98798c4f2fd45be03",
            "da8ff793781a4e1b841abb43513bd8dd",
            "97ba30723721498c88dae41eb6c78c1f",
            "7f9b2c68ae59443d9dcc1f5669fe9262",
            "953a50a38a434fdaac579cb678daec5d",
            "148f792c5ce746bfb13b39ae8fa52f5d",
            "b8716be1bf4a426ca07569de8c6b8f01",
            "f6a4e5eb43094d4a8c4a42c55083a315",
            "9370d9a747ee4f33a969c8bed1479bf7",
            "58ecbff408144a7e94992c9680143d5c",
            "3d948c4608794425ab3d4d863f1b49b6",
            "751abba0e88f493abb34a21a122a2f99",
            "41bcf49faa424216a246bc2d83cac3be",
            "204903388fc3433183e4da3d77e94f9a",
            "84db81c60f1c49bcb30f60e8dc5b1101",
            "40838ee85f22492a9bac4f69788c8a30",
            "a6eb1f97f3f44270a06bd837257aa309",
            "143d91cd88b046879cd59af2bfc24500",
            "35d5764b1d1248fbb8afc47908a1ec50",
            "9a48ce52ce214fdbb573f9e60f400176",
            "0d7f6f8ec1094c279796e78e8f3789cd",
            "3f54922dfda34fcda356e4acf8ca0253"
          ]
        },
        "outputId": "0caa4254-020c-4c6a-f011-0b2b5f35cc54"
      },
      "execution_count": 16,
      "outputs": [
        {
          "output_type": "stream",
          "name": "stderr",
          "text": [
            "/usr/local/lib/python3.11/dist-packages/huggingface_hub/utils/_auth.py:94: UserWarning: \n",
            "The secret `HF_TOKEN` does not exist in your Colab secrets.\n",
            "To authenticate with the Hugging Face Hub, create a token in your settings tab (https://huggingface.co/settings/tokens), set it as secret in your Google Colab and restart your session.\n",
            "You will be able to reuse this secret in all of your notebooks.\n",
            "Please note that authentication is recommended but still optional to access public models or datasets.\n",
            "  warnings.warn(\n"
          ]
        },
        {
          "output_type": "display_data",
          "data": {
            "text/plain": [
              "config.json:   0%|          | 0.00/570 [00:00<?, ?B/s]"
            ],
            "application/vnd.jupyter.widget-view+json": {
              "version_major": 2,
              "version_minor": 0,
              "model_id": "dfbea059c850483f9bbd36a16cc84034"
            }
          },
          "metadata": {}
        },
        {
          "output_type": "display_data",
          "data": {
            "text/plain": [
              "model.safetensors:   0%|          | 0.00/440M [00:00<?, ?B/s]"
            ],
            "application/vnd.jupyter.widget-view+json": {
              "version_major": 2,
              "version_minor": 0,
              "model_id": "39399525f91d4f1f86729a217ba70a96"
            }
          },
          "metadata": {}
        },
        {
          "output_type": "stream",
          "name": "stderr",
          "text": [
            "Some weights of the PyTorch model were not used when initializing the TF 2.0 model TFBertModel: ['cls.predictions.transform.dense.bias', 'cls.predictions.bias', 'cls.predictions.transform.dense.weight', 'cls.predictions.transform.LayerNorm.weight', 'cls.seq_relationship.bias', 'cls.predictions.transform.LayerNorm.bias', 'cls.seq_relationship.weight']\n",
            "- This IS expected if you are initializing TFBertModel from a PyTorch model trained on another task or with another architecture (e.g. initializing a TFBertForSequenceClassification model from a BertForPreTraining model).\n",
            "- This IS NOT expected if you are initializing TFBertModel from a PyTorch model that you expect to be exactly identical (e.g. initializing a TFBertForSequenceClassification model from a BertForSequenceClassification model).\n",
            "All the weights of TFBertModel were initialized from the PyTorch model.\n",
            "If your task is similar to the task the model of the checkpoint was trained on, you can already use TFBertModel for predictions without further training.\n"
          ]
        },
        {
          "output_type": "display_data",
          "data": {
            "text/plain": [
              "tokenizer_config.json:   0%|          | 0.00/48.0 [00:00<?, ?B/s]"
            ],
            "application/vnd.jupyter.widget-view+json": {
              "version_major": 2,
              "version_minor": 0,
              "model_id": "35fcfa884a654cf6a84f7cff55f7bb66"
            }
          },
          "metadata": {}
        },
        {
          "output_type": "display_data",
          "data": {
            "text/plain": [
              "vocab.txt:   0%|          | 0.00/232k [00:00<?, ?B/s]"
            ],
            "application/vnd.jupyter.widget-view+json": {
              "version_major": 2,
              "version_minor": 0,
              "model_id": "39bc4ca9e98149c98798c4f2fd45be03"
            }
          },
          "metadata": {}
        },
        {
          "output_type": "display_data",
          "data": {
            "text/plain": [
              "tokenizer.json:   0%|          | 0.00/466k [00:00<?, ?B/s]"
            ],
            "application/vnd.jupyter.widget-view+json": {
              "version_major": 2,
              "version_minor": 0,
              "model_id": "751abba0e88f493abb34a21a122a2f99"
            }
          },
          "metadata": {}
        },
        {
          "output_type": "stream",
          "name": "stdout",
          "text": [
            "{'input_ids': <tf.Tensor: shape=(1036, 70), dtype=int32, numpy=\n",
            "array([[ 101, 2165, 1996, ...,    0,    0,    0],\n",
            "       [ 101, 5729, 6888, ..., 2077, 3637,  102],\n",
            "       [ 101, 2139, 4502, ..., 1045, 2106,  102],\n",
            "       ...,\n",
            "       [ 101, 2023, 4319, ...,    0,    0,    0],\n",
            "       [ 101, 4487, 5737, ..., 1012,  102,    0],\n",
            "       [ 101, 3030, 2478, ...,    0,    0,    0]], dtype=int32)>, 'attention_mask': <tf.Tensor: shape=(1036, 70), dtype=int32, numpy=\n",
            "array([[1, 1, 1, ..., 0, 0, 0],\n",
            "       [1, 1, 1, ..., 1, 1, 1],\n",
            "       [1, 1, 1, ..., 1, 1, 1],\n",
            "       ...,\n",
            "       [1, 1, 1, ..., 0, 0, 0],\n",
            "       [1, 1, 1, ..., 1, 1, 0],\n",
            "       [1, 1, 1, ..., 0, 0, 0]], dtype=int32)>}\n"
          ]
        }
      ]
    },
    {
      "cell_type": "markdown",
      "source": [
        "### 4. Initialize and build with roberta"
      ],
      "metadata": {
        "id": "tPbBhxbL7kZh"
      }
    },
    {
      "cell_type": "code",
      "source": [
        "# Build model\n",
        "input_ids = Input(shape=(max_length,), dtype=tf.int32, name=\"input_ids\")\n",
        "attention_mask = Input(shape=(max_length,), dtype=tf.int32, name=\"attention_mask\")\n",
        "\n",
        "# Alternative approach using Sequential-style model building\n",
        "class BertClassifier(tf.keras.Model):\n",
        "    def __init__(self, bert_model, num_classes=3):\n",
        "        super(BertClassifier, self).__init__()\n",
        "        self.bert = bert_model\n",
        "        self.pooler = GlobalMaxPool1D()\n",
        "        self.dense1 = Dense(128, activation='relu')\n",
        "        self.dropout = Dropout(0.3)\n",
        "        self.dense2 = Dense(32, activation='relu')\n",
        "        self.classifier = Dense(num_classes, activation='softmax')\n",
        "\n",
        "    def call(self, inputs):\n",
        "        input_ids = inputs['input_ids']\n",
        "        attention_mask = inputs['attention_mask']\n",
        "\n",
        "        # Get BERT outputs\n",
        "        bert_outputs = self.bert(input_ids=input_ids, attention_mask=attention_mask)\n",
        "        sequence_output = bert_outputs[0]  # last_hidden_state\n",
        "\n",
        "        # Classification head\n",
        "        pooled = self.pooler(sequence_output)\n",
        "        x = self.dense1(pooled)\n",
        "        x = self.dropout(x)\n",
        "        x = self.dense2(x)\n",
        "        return self.classifier(x)\n",
        "\n",
        "# Create model\n",
        "model = BertClassifier(bert)\n",
        "\n",
        "# Build the model by calling it once\n",
        "dummy_input = {\n",
        "    'input_ids': tf.zeros((1, max_length), dtype=tf.int32),\n",
        "    'attention_mask': tf.zeros((1, max_length), dtype=tf.int32)\n",
        "}\n",
        "_ = model(dummy_input)\n",
        "\n",
        "xd_input = {\n",
        "    'input_ids': tf.zeros((1, max_length), dtype=tf.int32),\n",
        "    'attention_mask': tf.zeros((1, max_length), dtype=tf.int32)\n",
        "}\n",
        "_=model(xd_input)\n",
        "\n"
      ],
      "metadata": {
        "id": "5C97-7aZ7mCs"
      },
      "execution_count": 17,
      "outputs": []
    },
    {
      "cell_type": "markdown",
      "source": [
        "### 5. Compile model\n"
      ],
      "metadata": {
        "id": "MJw5hoFuKd4J"
      }
    },
    {
      "cell_type": "code",
      "source": [
        "model.compile(\n",
        "    optimizer=Adam(learning_rate=0.0001),\n",
        "    loss='categorical_crossentropy',\n",
        "    metrics=['accuracy']\n",
        ")\n",
        "\n",
        "model.summary()"
      ],
      "metadata": {
        "id": "cEDC5bSVKhCv",
        "colab": {
          "base_uri": "https://localhost:8080/",
          "height": 309
        },
        "outputId": "8779b3d2-95b3-427e-aafe-643578895aae"
      },
      "execution_count": 18,
      "outputs": [
        {
          "output_type": "display_data",
          "data": {
            "text/plain": [
              "\u001b[1mModel: \"bert_classifier\"\u001b[0m\n"
            ],
            "text/html": [
              "<pre style=\"white-space:pre;overflow-x:auto;line-height:normal;font-family:Menlo,'DejaVu Sans Mono',consolas,'Courier New',monospace\"><span style=\"font-weight: bold\">Model: \"bert_classifier\"</span>\n",
              "</pre>\n"
            ]
          },
          "metadata": {}
        },
        {
          "output_type": "display_data",
          "data": {
            "text/plain": [
              "┏━━━━━━━━━━━━━━━━━━━━━━━━━━━━━━━━━┳━━━━━━━━━━━━━━━━━━━━━━━━┳━━━━━━━━━━━━━━━┓\n",
              "┃\u001b[1m \u001b[0m\u001b[1mLayer (type)                   \u001b[0m\u001b[1m \u001b[0m┃\u001b[1m \u001b[0m\u001b[1mOutput Shape          \u001b[0m\u001b[1m \u001b[0m┃\u001b[1m \u001b[0m\u001b[1m      Param #\u001b[0m\u001b[1m \u001b[0m┃\n",
              "┡━━━━━━━━━━━━━━━━━━━━━━━━━━━━━━━━━╇━━━━━━━━━━━━━━━━━━━━━━━━╇━━━━━━━━━━━━━━━┩\n",
              "│ global_max_pooling1d            │ ?                      │             \u001b[38;5;34m0\u001b[0m │\n",
              "│ (\u001b[38;5;33mGlobalMaxPooling1D\u001b[0m)            │                        │               │\n",
              "├─────────────────────────────────┼────────────────────────┼───────────────┤\n",
              "│ dense_6 (\u001b[38;5;33mDense\u001b[0m)                 │ (\u001b[38;5;34m1\u001b[0m, \u001b[38;5;34m128\u001b[0m)               │        \u001b[38;5;34m98,432\u001b[0m │\n",
              "├─────────────────────────────────┼────────────────────────┼───────────────┤\n",
              "│ dropout (\u001b[38;5;33mDropout\u001b[0m)               │ ?                      │             \u001b[38;5;34m0\u001b[0m │\n",
              "├─────────────────────────────────┼────────────────────────┼───────────────┤\n",
              "│ dense_7 (\u001b[38;5;33mDense\u001b[0m)                 │ (\u001b[38;5;34m1\u001b[0m, \u001b[38;5;34m32\u001b[0m)                │         \u001b[38;5;34m4,128\u001b[0m │\n",
              "├─────────────────────────────────┼────────────────────────┼───────────────┤\n",
              "│ dense_8 (\u001b[38;5;33mDense\u001b[0m)                 │ (\u001b[38;5;34m1\u001b[0m, \u001b[38;5;34m3\u001b[0m)                 │            \u001b[38;5;34m99\u001b[0m │\n",
              "└─────────────────────────────────┴────────────────────────┴───────────────┘\n"
            ],
            "text/html": [
              "<pre style=\"white-space:pre;overflow-x:auto;line-height:normal;font-family:Menlo,'DejaVu Sans Mono',consolas,'Courier New',monospace\">┏━━━━━━━━━━━━━━━━━━━━━━━━━━━━━━━━━┳━━━━━━━━━━━━━━━━━━━━━━━━┳━━━━━━━━━━━━━━━┓\n",
              "┃<span style=\"font-weight: bold\"> Layer (type)                    </span>┃<span style=\"font-weight: bold\"> Output Shape           </span>┃<span style=\"font-weight: bold\">       Param # </span>┃\n",
              "┡━━━━━━━━━━━━━━━━━━━━━━━━━━━━━━━━━╇━━━━━━━━━━━━━━━━━━━━━━━━╇━━━━━━━━━━━━━━━┩\n",
              "│ global_max_pooling1d            │ ?                      │             <span style=\"color: #00af00; text-decoration-color: #00af00\">0</span> │\n",
              "│ (<span style=\"color: #0087ff; text-decoration-color: #0087ff\">GlobalMaxPooling1D</span>)            │                        │               │\n",
              "├─────────────────────────────────┼────────────────────────┼───────────────┤\n",
              "│ dense_6 (<span style=\"color: #0087ff; text-decoration-color: #0087ff\">Dense</span>)                 │ (<span style=\"color: #00af00; text-decoration-color: #00af00\">1</span>, <span style=\"color: #00af00; text-decoration-color: #00af00\">128</span>)               │        <span style=\"color: #00af00; text-decoration-color: #00af00\">98,432</span> │\n",
              "├─────────────────────────────────┼────────────────────────┼───────────────┤\n",
              "│ dropout (<span style=\"color: #0087ff; text-decoration-color: #0087ff\">Dropout</span>)               │ ?                      │             <span style=\"color: #00af00; text-decoration-color: #00af00\">0</span> │\n",
              "├─────────────────────────────────┼────────────────────────┼───────────────┤\n",
              "│ dense_7 (<span style=\"color: #0087ff; text-decoration-color: #0087ff\">Dense</span>)                 │ (<span style=\"color: #00af00; text-decoration-color: #00af00\">1</span>, <span style=\"color: #00af00; text-decoration-color: #00af00\">32</span>)                │         <span style=\"color: #00af00; text-decoration-color: #00af00\">4,128</span> │\n",
              "├─────────────────────────────────┼────────────────────────┼───────────────┤\n",
              "│ dense_8 (<span style=\"color: #0087ff; text-decoration-color: #0087ff\">Dense</span>)                 │ (<span style=\"color: #00af00; text-decoration-color: #00af00\">1</span>, <span style=\"color: #00af00; text-decoration-color: #00af00\">3</span>)                 │            <span style=\"color: #00af00; text-decoration-color: #00af00\">99</span> │\n",
              "└─────────────────────────────────┴────────────────────────┴───────────────┘\n",
              "</pre>\n"
            ]
          },
          "metadata": {}
        },
        {
          "output_type": "display_data",
          "data": {
            "text/plain": [
              "\u001b[1m Total params: \u001b[0m\u001b[38;5;34m102,659\u001b[0m (401.01 KB)\n"
            ],
            "text/html": [
              "<pre style=\"white-space:pre;overflow-x:auto;line-height:normal;font-family:Menlo,'DejaVu Sans Mono',consolas,'Courier New',monospace\"><span style=\"font-weight: bold\"> Total params: </span><span style=\"color: #00af00; text-decoration-color: #00af00\">102,659</span> (401.01 KB)\n",
              "</pre>\n"
            ]
          },
          "metadata": {}
        },
        {
          "output_type": "display_data",
          "data": {
            "text/plain": [
              "\u001b[1m Trainable params: \u001b[0m\u001b[38;5;34m102,659\u001b[0m (401.01 KB)\n"
            ],
            "text/html": [
              "<pre style=\"white-space:pre;overflow-x:auto;line-height:normal;font-family:Menlo,'DejaVu Sans Mono',consolas,'Courier New',monospace\"><span style=\"font-weight: bold\"> Trainable params: </span><span style=\"color: #00af00; text-decoration-color: #00af00\">102,659</span> (401.01 KB)\n",
              "</pre>\n"
            ]
          },
          "metadata": {}
        },
        {
          "output_type": "display_data",
          "data": {
            "text/plain": [
              "\u001b[1m Non-trainable params: \u001b[0m\u001b[38;5;34m0\u001b[0m (0.00 B)\n"
            ],
            "text/html": [
              "<pre style=\"white-space:pre;overflow-x:auto;line-height:normal;font-family:Menlo,'DejaVu Sans Mono',consolas,'Courier New',monospace\"><span style=\"font-weight: bold\"> Non-trainable params: </span><span style=\"color: #00af00; text-decoration-color: #00af00\">0</span> (0.00 B)\n",
              "</pre>\n"
            ]
          },
          "metadata": {}
        }
      ]
    },
    {
      "cell_type": "markdown",
      "source": [
        "### 6. train model"
      ],
      "metadata": {
        "id": "yjGYRUA3Kqya"
      }
    },
    {
      "cell_type": "code",
      "source": [
        "history = model.fit(\n",
        "    x={'input_ids': x_train['input_ids'], 'attention_mask': x_train['attention_mask']},\n",
        "    y=y_train,\n",
        "    validation_data=({'input_ids': x_test['input_ids'], 'attention_mask': x_test['attention_mask']}, y_test),\n",
        "    epochs=7,\n",
        "    batch_size=16,\n",
        "    shuffle=True,\n",
        "    verbose=1\n",
        ")"
      ],
      "metadata": {
        "id": "BXrwk81EKtSF",
        "colab": {
          "base_uri": "https://localhost:8080/"
        },
        "outputId": "fd0af10f-9544-4720-f339-b8d368bdacb9"
      },
      "execution_count": 19,
      "outputs": [
        {
          "output_type": "stream",
          "name": "stdout",
          "text": [
            "Epoch 1/7\n",
            "\u001b[1m195/195\u001b[0m \u001b[32m━━━━━━━━━━━━━━━━━━━━\u001b[0m\u001b[37m\u001b[0m \u001b[1m47s\u001b[0m 149ms/step - accuracy: 0.6663 - loss: 0.8582 - val_accuracy: 0.6467 - val_loss: 0.9159\n",
            "Epoch 2/7\n",
            "\u001b[1m195/195\u001b[0m \u001b[32m━━━━━━━━━━━━━━━━━━━━\u001b[0m\u001b[37m\u001b[0m \u001b[1m25s\u001b[0m 87ms/step - accuracy: 0.6791 - loss: 0.8275 - val_accuracy: 0.6477 - val_loss: 0.8744\n",
            "Epoch 3/7\n",
            "\u001b[1m195/195\u001b[0m \u001b[32m━━━━━━━━━━━━━━━━━━━━\u001b[0m\u001b[37m\u001b[0m \u001b[1m20s\u001b[0m 86ms/step - accuracy: 0.6874 - loss: 0.8121 - val_accuracy: 0.6467 - val_loss: 0.8863\n",
            "Epoch 4/7\n",
            "\u001b[1m195/195\u001b[0m \u001b[32m━━━━━━━━━━━━━━━━━━━━\u001b[0m\u001b[37m\u001b[0m \u001b[1m21s\u001b[0m 89ms/step - accuracy: 0.6757 - loss: 0.8068 - val_accuracy: 0.6525 - val_loss: 0.8590\n",
            "Epoch 5/7\n",
            "\u001b[1m195/195\u001b[0m \u001b[32m━━━━━━━━━━━━━━━━━━━━\u001b[0m\u001b[37m\u001b[0m \u001b[1m19s\u001b[0m 82ms/step - accuracy: 0.6925 - loss: 0.7732 - val_accuracy: 0.6477 - val_loss: 0.8621\n",
            "Epoch 6/7\n",
            "\u001b[1m195/195\u001b[0m \u001b[32m━━━━━━━━━━━━━━━━━━━━\u001b[0m\u001b[37m\u001b[0m \u001b[1m17s\u001b[0m 90ms/step - accuracy: 0.6909 - loss: 0.7769 - val_accuracy: 0.6477 - val_loss: 0.8524\n",
            "Epoch 7/7\n",
            "\u001b[1m195/195\u001b[0m \u001b[32m━━━━━━━━━━━━━━━━━━━━\u001b[0m\u001b[37m\u001b[0m \u001b[1m19s\u001b[0m 83ms/step - accuracy: 0.6967 - loss: 0.7626 - val_accuracy: 0.6506 - val_loss: 0.8343\n"
          ]
        }
      ]
    },
    {
      "cell_type": "markdown",
      "source": [
        "### 7. predictions"
      ],
      "metadata": {
        "id": "NQCY0w57LMjr"
      }
    },
    {
      "cell_type": "code",
      "source": [
        "predictions = model.predict({\n",
        "    'input_ids': x_test['input_ids'],\n",
        "    'attention_mask': x_test['attention_mask']\n",
        "})\n",
        "\n",
        "y_pred = np.argmax(predictions, axis=1)\n",
        "y_true = np.argmax(y_test, axis=1)"
      ],
      "metadata": {
        "id": "fJQhBBarLO0N",
        "colab": {
          "base_uri": "https://localhost:8080/"
        },
        "outputId": "a091474f-3a9b-4edb-d092-92da890a7e1e"
      },
      "execution_count": 20,
      "outputs": [
        {
          "output_type": "stream",
          "name": "stdout",
          "text": [
            "\u001b[1m33/33\u001b[0m \u001b[32m━━━━━━━━━━━━━━━━━━━━\u001b[0m\u001b[37m\u001b[0m \u001b[1m13s\u001b[0m 257ms/step\n"
          ]
        }
      ]
    },
    {
      "cell_type": "markdown",
      "source": [
        "### 8. evaluate"
      ],
      "metadata": {
        "id": "Vts4Z0QZLZ4I"
      }
    },
    {
      "cell_type": "code",
      "source": [
        "print(f\"Accuracy: {accuracy_score(y_true, y_pred):.4f}\")\n",
        "print(f\"Precision: {precision_score(y_true, y_pred, average='macro'):.4f}\")\n",
        "print(f\"Recall: {recall_score(y_true, y_pred, average='macro'):.4f}\")\n",
        "print(f\"F1 Score: {f1_score(y_true, y_pred, average='macro'):.4f}\")"
      ],
      "metadata": {
        "id": "N-OYou84LcQZ",
        "colab": {
          "base_uri": "https://localhost:8080/"
        },
        "outputId": "069de472-357c-4d57-f24e-6e3401b0ec62"
      },
      "execution_count": 21,
      "outputs": [
        {
          "output_type": "stream",
          "name": "stdout",
          "text": [
            "Accuracy: 0.6506\n",
            "Precision: 0.4048\n",
            "Recall: 0.3433\n",
            "F1 Score: 0.2857\n"
          ]
        },
        {
          "output_type": "stream",
          "name": "stderr",
          "text": [
            "/usr/local/lib/python3.11/dist-packages/sklearn/metrics/_classification.py:1565: UndefinedMetricWarning: Precision is ill-defined and being set to 0.0 in labels with no predicted samples. Use `zero_division` parameter to control this behavior.\n",
            "  _warn_prf(average, modifier, f\"{metric.capitalize()} is\", len(result))\n"
          ]
        }
      ]
    },
    {
      "cell_type": "markdown",
      "source": [
        "### 9. plot curves"
      ],
      "metadata": {
        "id": "wMNOWvaSLoLa"
      }
    },
    {
      "cell_type": "code",
      "source": [
        "def plot_training_curves(history):\n",
        "    fig, (ax1, ax2) = plt.subplots(1, 2, figsize=(12, 4))\n",
        "\n",
        "    ax1.plot(history.history['accuracy'], 'bo-', label='Training Accuracy')\n",
        "    ax1.plot(history.history['val_accuracy'], 'ro-', label='Validation Accuracy')\n",
        "    ax1.set_title('Model Accuracy')\n",
        "    ax1.set_xlabel('Epoch')\n",
        "    ax1.set_ylabel('Accuracy')\n",
        "    ax1.legend()\n",
        "\n",
        "\n",
        "    ax2.plot(history.history['loss'], 'bo-', label='Training Loss')\n",
        "    ax2.plot(history.history['val_loss'], 'ro-', label='Validation Loss')\n",
        "    ax2.set_title('Model Loss')\n",
        "    ax2.set_xlabel('Epoch')\n",
        "    ax2.set_ylabel('Loss')\n",
        "    ax2.legend()\n",
        "\n",
        "    plt.tight_layout()\n",
        "    plt.show()\n",
        "\n",
        "plot_training_curves(history)"
      ],
      "metadata": {
        "id": "siHwTHHjLq9k",
        "colab": {
          "base_uri": "https://localhost:8080/",
          "height": 407
        },
        "outputId": "413e9046-4413-4982-8e59-0373fb4e0da6"
      },
      "execution_count": 22,
      "outputs": [
        {
          "output_type": "display_data",
          "data": {
            "text/plain": [
              "<Figure size 1200x400 with 2 Axes>"
            ],
            "image/png": "[encoded data removed]"
          },
          "metadata": {}
        }
      ]
    }
  ]
}